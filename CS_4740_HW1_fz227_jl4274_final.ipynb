{
 "cells": [
  {
   "cell_type": "markdown",
   "metadata": {
    "id": "ZNdFlbLJoUXM"
   },
   "source": [
    "# Homework 1: Named Entity Recognition (NER) with Sequence Labeling Models\n",
    "## CS4740/5740 Fall 2022\n",
    "\n",
    "### Milestone Submission Due: **September 15, 2022 (11:59 PM)** \n",
    "\n",
    "### Project Submission Due: **September 27, 2022 (11:59 PM)**\n",
    "\n",
    "\n",
    "\n",
    "\n"
   ]
  },
  {
   "cell_type": "markdown",
   "metadata": {
    "id": "871f2XhgtoYX"
   },
   "source": [
    "**Names:** Fengyue(Lisa) Zhao, Jiaqi Liang\n",
    "\n",
    "**Netids:** fz227, jl4274\n",
    "\n",
    "\n",
    "\n",
    "\n",
    "**Editing your version of this notebook:** One partner should make a copy of this notebook and share it with your partner.  **However**, because of synchronization issues (even though Colab works with Google Drive), changes made in this notebook at the same time from different computers/browser windows may not save. We will go so far as to recommend that you close the tab with this notebook when you are not working on it so your partner doesn't face sync issues.\n"
   ]
  },
  {
   "cell_type": "markdown",
   "metadata": {
    "id": "QN0nBtOzb5u7"
   },
   "source": [
    "**Collaboration policy:** please be sure to check the collaboration policy on the [course website](https://courses.cs.cornell.edu/cs4740/2022fa/)!\n",
    "\n"
   ]
  },
  {
   "cell_type": "markdown",
   "metadata": {
    "id": "xY4p6eJmPPY4"
   },
   "source": [
    "> Assignment authors & testers: CS 4740/5740 professors and TAs from this and previous semesters, Chenxin Fang, Meghana Srivastava, Khonzoda Umarova, as well as Ruizhe Wang, Han Xia, and Heather Zhang."
   ]
  },
  {
   "cell_type": "markdown",
   "metadata": {
    "id": "iguUiw0mor52"
   },
   "source": [
    "# **Introduction**\n",
    "---\n",
    "\n",
    "In this project, you will tackle the **Named Entity Recognition** task: you'll implement models that identify named entities in text and tag them with the appropriate label. A primer on this task is provided further on.  We will treat this as a **sequence-tagging task**: for each token in the input text, assign one of the following 5 entity labels -- **ORG** (Organization), **PER** (Person), **LOC** (Location), **MISC** (Miscellaneous), and **O** (Not Named Entity) -- as well as a BIO-format prefix **B-** (token is the *beginning* of a named entity) or **I-** (token is *inside* a named entity). Overall, this yields 9 different labels: **B-ORG, I-ORG, B-PER, I-PER, B-LOC, I-LOC, B-MISC, I-MISC** and **O**.\n",
    "\n",
    "For this project, you will implement two sequence labeling approaches:\n",
    "- Model 1 : a Hidden Markov Model (HMM)\n",
    "- Model 2 : a Maximum Entropy Markov Model (MEMM)/Logistic Regression classifier (also known as a MaxEnt classifier). Feature engineering is strongly suggested for this model!\n",
    "\n",
    "A key component of both models is implementation of the Viterbi algorithm, which we will use to find the most likely tag sequence to assign to an input text."
   ]
  },
  {
   "cell_type": "markdown",
   "metadata": {
    "id": "mib4pTXj3hir"
   },
   "source": [
    "## **Logistics**\n",
    "\n",
    "---\n",
    "\n",
    "- You are **strongly encouraged** to work in **groups of 2 students**. Students in the same group will get the same grade. Thus, you should make sure that everyone in your group contributes to the project. \n",
    "- **Do not form teams of two on Kaggle** (You *will* form teams on a different platform; details TBA) because submitting separately gives you more tries, which is useful when experimenting with different models.\n",
    "- A part of your submission would involve uploading your notebook (details would be provided soon!). So, please enter all code and answer all the questions in this colab notebook.\n",
    "- In this assignment you are asked to make two submissions:\n",
    "  1. Intermediate **milestone submission due on 9/15/22 (11:59 PM)**. For this, please 1) have your teams formed (mechanism TBA) and  2) submit predictions of your first model (HMM) on Kaggle. This means that you should aim to complete Part 1 and Part 2 of the assignment by this milestone. Points will be awarded for meeting the milestone deadline, but we will only grade for completion, not correctness. \n",
    "  2. The **final homework submission due on 9/27/22 (11:59 PM)**. (details TBA)\n",
    "- Please be sure to consult the [list](https://docs.google.com/document/d/1-QmpkZYJDCM4gQQ9sZW2EwD5ltYy1CFjlJTbhD0Be-A/edit?usp=sharing) of banned packages/libraries before you start implementing your models. Note that this list may get updated.\n",
    "\n"
   ]
  },
  {
   "cell_type": "markdown",
   "metadata": {
    "id": "q2z7TIHV3kCH"
   },
   "source": [
    "## **Advice**\n",
    "\n",
    "---\n",
    "\n",
    "1. Please read through the entire notebook before you start coding. That might inform your code structure.\n",
    "2. An assignment outline and grading breakdown (subject to minor adjustments) is found below; please consult it.\n",
    "3. The project is somewhat open ended. We will ask you to implement the models, but in some cases precise data structures and so on can be chosen by you. However, to integrate with Kaggle, you will need to submit Kaggle predictions using the given evaluation code (more instructions later)."
   ]
  },
  {
   "cell_type": "markdown",
   "metadata": {
    "id": "NyokCzP2Zqqx"
   },
   "source": [
    "<a name=\"outline\"></a>\n",
    "## **Assignment outline and grading breakdown**\n",
    "- [Part 1](#part1)\n",
    "  - [Q1](#q1) [10 pts]\n",
    "- [Part 2](#part2)\n",
    "  - [Unknown Word Handling](#unknowns_handling) [15 pts]\n",
    "  - [HMM Implementation](#hmm_implementation) [20 pts]\n",
    "  - [Viterbi Implementation](#viterbi_implementation) [20 pts]\n",
    "  - [Validation](#validation_data) [3 pts]\n",
    "  - [Q2.1](#q2.1) [5 pts]\n",
    "  - [Q2.2](#q2.2) [5 pts]\n",
    "  - [Q2.3](#q2.3) [5 pts]\n",
    "  - [Q2.4](#q2.4) [5 pts]\n",
    "- [Part 3](#part3)\n",
    "  - [Features](#features) [35 pts]\n",
    "  - [MEMM Implementation](#memm_implementation) [25 pts]\n",
    "  - [Q3.1](#q3.1) [5 pts]\n",
    "  - [Q3.2](#q3.2) [5 pts]\n",
    "  - [Q3.3](#q3.3) [5 pts]\n",
    "  - [Q3.4](#q3.4) [5 pts]\n",
    "- [Part 4](#part4)\n",
    "  - [Q4.1](#q4.1) [7 pts]\n",
    "  - [Q4.2](#q4.2) [7 pts]\n",
    "  - [Q4.3](#q4.3) [7 pts]\n",
    "- [Part 5](#part5)\n",
    "  - [Q5](#q5)\n",
    "\n",
    "\n",
    "Meeting the milestone deadline [10 pts];\n",
    "\n",
    "Outperforming our baseline on Kaggle [15 pts];\n",
    "\n"
   ]
  },
  {
   "cell_type": "markdown",
   "metadata": {
    "id": "kBsjyfPu5V4t"
   },
   "source": [
    "## **Named Entity Recognition: Review**\n",
    "\n",
    "---\n",
    "\n",
    "NER refers to the information extraction technique of identifying and categorizing key information about entities within textual data. NER is important for:\n",
    "  - Detecting entities in search engines and voice assistants for more relavent search results.\n",
    "  - Automatically parsing resumes.\n",
    "  - ...and much more!\n",
    "\n",
    "In our dataset named entity tags are formatted in BIO/IOB format. With this format, entity tags get a prefix. Prefix \"B-\" is added to the first word/token of the entity name. All following tokens that are part of the same entity name would get prefix \"I-\". \n",
    "\n",
    "Here is an example sentence: \"ZIFA\n",
    "said\n",
    "Renate\n",
    "Geotschel\n",
    "of\n",
    "Austria\n",
    "won the women's World Cup  downhill race in Germany.\"\n",
    "Entity \"Renate Goetschl\" gets \"Renate\" (B-PER) and \"Goestchl\" (I-PER). Similarly, for \"World Cup\" we'd have \"World\" (B-MISC) and \"Cup\" (I-MISC). If an entity only has one token, then its entity tag would still have prefix \"B-\". \"O\" is used to denote tokens that are not part of any named entity. Thus, from the example above, we'd have:\n",
    "\n",
    "```\"ZIFA\" B-ORG```\n",
    "\n",
    " ```\"said\" O```\n",
    "\n",
    " ```\"Renate\" B-PER```\n",
    "\n",
    " ```\"Goetschl\" I-PER```\n",
    "\n",
    " ```\"of\" O```\n",
    "\n",
    " ```\"Austria\" B-LOC```\n",
    "\n",
    " ```\"won\" O```\n",
    "\n",
    " ```\"the\" O```\n",
    "\n",
    " ```\"women's\" O```\n",
    "\n",
    " ```\"World\" B-MISC```\n",
    "\n",
    " ```\"Cup\" I-MISC```\n",
    "\n",
    " ```\"downhill\" O```\n",
    "\n",
    " ```\"race\" O```\n",
    "\n",
    " ```\"in\" O```\n",
    "\n",
    " ```\"Germany\" B-LOC```\n",
    "\n",
    "\n",
    "Although NER is predominantly handled by deep learning approaches, for now let's use HMMs and MEMMs. \n",
    "\n",
    "\n",
    "To read more on NER, we refer to any of the following sources:\n",
    "1. Medium post [1](https://umagunturi789.medium.com/everything-you-need-to-know-about-named-entity-recognition-2a136f38c08f) and [2](https://medium.com/mysuperai/what-is-named-entity-recognition-ner-and-how-can-i-use-it-2b68cf6f545d).\n",
    "2. Try out [this](https://demo.allennlp.org/named-entity-recognition/named-entity-recognition) AlllenNLP demo! Please note that this demo uses a slightly different format of NER tags."
   ]
  },
  {
   "cell_type": "markdown",
   "metadata": {
    "id": "DSFfegs8LKY8"
   },
   "source": [
    "## **Evaluation: Entity Level Mean F1**\n",
    "\n",
    "---\n",
    "\n",
    "The standard evaluation measures to report for NER are recall, precision, and F1 score\n",
    "(also called F-measure) evaluated at the **named entity level** (not at the token level). The code for this has been provided later under the validation section under Part 2. Please use this code when evaluating your models. \n",
    "\n",
    "\n",
    "If P and T are the sets of predicted and true *named entity spans*, respectively, (e.g, the five named entity spans in the above example are \"Zifa\", \"Renate Goetschl\", \"Austria\", \"World Cup\", and \"Germany\") then\n",
    "\n",
    "####<center>Precision = $\\frac{|\\text{P}\\;\\cap\\;\\text{T}|}{|\\text{P}|}$ and Recall = $\\frac{|\\text{P}\\;\\cap\\;\\text{T}|}{|\\text{T}|}$.</center><br/>\n",
    "\n",
    "\n",
    "####<center>F1 = $\\frac{2 * \\text{Precision} * \\text{Recall}}{\\text{Precision} + \\text{Recall}}$. </center><br/>\n",
    "\n",
    "For each type of named entity, e.g. *LOC*ation, *MISC*ellaneous, *ORG*anization and *PER*son, we calculate the F1 score as shown above, and take the mean of all these F1 scores to get the **Entity Level Mean F1** score for the test set. If $N$ is the total number of labels (i.e., named entity types), then\n",
    "\n",
    "####<center>Entity Level Mean F1 = $\\frac{\\sum_{i = 1}^{N} \\text{F1}_{{label}_i}}{N}$. </center>\n",
    "\n",
    "More details under the validation section in Part 2.\n",
    "\n"
   ]
  },
  {
   "cell_type": "markdown",
   "metadata": {
    "id": "7iP63fHj5saG"
   },
   "source": [
    "<a name=\"part1\"></a>\n",
    "# **Part 1: Dataset**\n",
    "[[^^^]](#outline) \n",
    "\n",
    "Our data is a modified version of the WikiNEuRal ([ Tedeschi et al.](https://aclanthology.org/2021.findings-emnlp.215.pdf)) dataset."
   ]
  },
  {
   "cell_type": "markdown",
   "metadata": {
    "id": "pljkH2ow5U9x"
   },
   "source": [
    "Load the dataset as follows:\n",
    "  1. Obtain the data from Data tab of the [Kaggle competition](https://www.kaggle.com/t/200697e4726f448986930dd4e823e957).\n",
    "  2. Unzip the data. Put it into your Google Drive, run the cells below to mount it to Colab:\n"
   ]
  },
  {
   "cell_type": "code",
   "execution_count": 74,
   "metadata": {
    "colab": {
     "base_uri": "https://localhost:8080/"
    },
    "id": "yepivWZCJD6n",
    "outputId": "bde04111-88c6-45b2-bfc1-27cbb4dfca1b"
   },
   "outputs": [],
   "source": [
    "\n",
    "# !pip install geotext\n",
    "# !pip install nltk\n"
   ]
  },
  {
   "cell_type": "code",
   "execution_count": 75,
   "metadata": {
    "id": "mIf2wJqLzdm5"
   },
   "outputs": [],
   "source": [
    "from collections import Counter\n",
    "import nltk\n",
    "from nltk import pos_tag\n",
    "#nltk.download('averaged_perceptron_tagger')\n",
    "from geotext import GeoText\n",
    "import numpy as np\n",
    "from collections import defaultdict"
   ]
  },
  {
   "cell_type": "code",
   "execution_count": 76,
   "metadata": {
    "colab": {
     "base_uri": "https://localhost:8080/"
    },
    "id": "c3dQChuccqfN",
    "outputId": "f6d4dc1b-03fc-425b-edcc-223cea1a28dc"
   },
   "outputs": [],
   "source": [
    "# from google.colab import drive\n",
    "import os\n",
    "# drive.mount('/content/drive', force_remount=True)"
   ]
  },
  {
   "cell_type": "code",
   "execution_count": 77,
   "metadata": {
    "id": "uFXI7NRHn1Cc"
   },
   "outputs": [],
   "source": [
    "import json\n",
    "\n",
    "# TODO: please change the line below with your drive organization\n",
    "path = os.path.join(os.getcwd(),\"cs-4740-fa22-hw1-named-entity-recognition\")\n",
    "\n",
    "with open(os.path.join(path,'train.json'), 'r') as f:\n",
    "     train = json.loads(f.read())\n",
    "\n",
    "with open(os.path.join(path,'val.json'), 'r') as f:\n",
    "     val = json.loads(f.read())\n",
    "\n",
    "with open(os.path.join(path,'test.json'), 'r') as f:\n",
    "     test = json.loads(f.read())"
   ]
  },
  {
   "cell_type": "markdown",
   "metadata": {
    "id": "zfjKFeE_7T7C"
   },
   "source": [
    "Here's a few things to note about the dataset above:\n",
    "1. We have loaded 3 `.json` files: for training, validation, and testing.\n",
    "2. The train and validation files contain the following 3 fields (each is a nested list): \n",
    "  - **'text'** - actual input tokens\n",
    "  - **'NER'** - the token-level entity tag \n",
    "  - **'index'** - index of the token in the dataset\n",
    "3. The test data only has **'text'**, and **'index'** fields. You will need to submit your prediction of the **'NER'** tag to Kaggle."
   ]
  },
  {
   "cell_type": "markdown",
   "metadata": {
    "id": "cradDk-37G8L"
   },
   "source": [
    "\n",
    "### **Q1: Initial Data Observations**\n",
    "\n",
    "In the space below please add your code for dataset explorations for Q1."
   ]
  },
  {
   "cell_type": "code",
   "execution_count": 78,
   "metadata": {
    "colab": {
     "base_uri": "https://localhost:8080/"
    },
    "id": "PvvRSlhb6sAR",
    "outputId": "65a83747-c7ee-459d-e5ba-204168441245"
   },
   "outputs": [
    {
     "name": "stdout",
     "output_type": "stream",
     "text": [
      "The document length of training data is  7000\n",
      "The document length of validation data is  400\n",
      "The document length of testing data is  400\n",
      "The dataset size of training data is  166394\n",
      "The dataset size of validation data is  9344\n",
      "The dataset size of testing data is  8864\n"
     ]
    }
   ],
   "source": [
    "## add your code here\n",
    "print(\"The document length of training data is \", len(train['text']))\n",
    "print(\"The document length of validation data is \", len(val['text']))\n",
    "print(\"The document length of testing data is \", len(test['text']))\n",
    "\n",
    "\n",
    "def tokenSize(corpus):\n",
    "    if type(corpus) == list:\n",
    "        return sum(tokenSize(subcorpus) for subcorpus in corpus)\n",
    "    else:\n",
    "        return 1\n",
    "\n",
    "print(\"The dataset size of training data is \", tokenSize(train['text']))\n",
    "print(\"The dataset size of validation data is \", tokenSize(val['text']))\n",
    "print(\"The dataset size of testing data is \", tokenSize(test['text']))\n"
   ]
  },
  {
   "cell_type": "code",
   "execution_count": 79,
   "metadata": {
    "colab": {
     "base_uri": "https://localhost:8080/",
     "height": 1000
    },
    "id": "CyYmQa4LwdyG",
    "outputId": "e4f34377-c872-4664-f34c-9fcc0ebb62e6"
   },
   "outputs": [
    {
     "data": {
      "image/png": "[encoded data removed]",
      "text/plain": [
       "<Figure size 640x480 with 1 Axes>"
      ]
     },
     "metadata": {},
     "output_type": "display_data"
    },
    {
     "name": "stdout",
     "output_type": "stream",
     "text": [
      "Counter({'B-LOC': 4060, 'B-PER': 3016, 'B-MISC': 2815, 'I-MISC': 2566, 'I-PER': 2217, 'B-ORG': 1725, 'I-LOC': 1451, 'I-ORG': 1431})\n"
     ]
    },
    {
     "data": {
      "image/png": "[encoded data removed]",
      "text/plain": [
       "<Figure size 640x480 with 1 Axes>"
      ]
     },
     "metadata": {},
     "output_type": "display_data"
    },
    {
     "data": {
      "image/png": "[encoded data removed]",
      "text/plain": [
       "<Figure size 640x480 with 1 Axes>"
      ]
     },
     "metadata": {},
     "output_type": "display_data"
    },
    {
     "name": "stdout",
     "output_type": "stream",
     "text": [
      "Counter({'B-LOC': 225, 'B-PER': 192, 'I-MISC': 156, 'I-PER': 153, 'B-MISC': 148, 'I-LOC': 111, 'B-ORG': 95, 'I-ORG': 87})\n"
     ]
    },
    {
     "data": {
      "image/png": "[encoded data removed]",
      "text/plain": [
       "<Figure size 640x480 with 1 Axes>"
      ]
     },
     "metadata": {},
     "output_type": "display_data"
    }
   ],
   "source": [
    "from collections import Counter\n",
    "import matplotlib.pyplot as plt\n",
    "import numpy as np\n",
    "\n",
    "allNER = [item for subNER in train['NER'] for item in subNER]\n",
    "\n",
    "\n",
    "NERs, counts = zip(*Counter(allNER).items())\n",
    "\n",
    "indexes = np.arange(len(NERs))\n",
    "width = 1\n",
    "\n",
    "plt.bar(indexes, counts, width)\n",
    "plt.xticks(indexes + width * 0.5, NERs)\n",
    "plt.title('NER distribution in training data')\n",
    "plt.show()\n",
    "\n",
    "\n",
    "countNER = Counter(allNER)\n",
    "del countNER['O']\n",
    "print(countNER)\n",
    "NERs, counts = zip(*countNER.items())\n",
    "\n",
    "indexes = np.arange(len(NERs))\n",
    "width = 1\n",
    "\n",
    "plt.bar(indexes, counts, width)\n",
    "plt.xticks(indexes + width * 0.5, NERs)\n",
    "plt.title(\"NER distribution without 'O' in training data\")\n",
    "plt.show()\n",
    "\n",
    "\n",
    "\n",
    "allNER = [item for subNER in val['NER'] for item in subNER]\n",
    "\n",
    "\n",
    "NERs, counts = zip(*Counter(allNER).items())\n",
    "\n",
    "indexes = np.arange(len(NERs))\n",
    "width = 1\n",
    "\n",
    "plt.bar(indexes, counts, width)\n",
    "plt.xticks(indexes + width * 0.5, NERs)\n",
    "plt.title('NER distribution in validation data')\n",
    "plt.show()\n",
    "\n",
    "\n",
    "countNER = Counter(allNER)\n",
    "del countNER['O']\n",
    "print(countNER)\n",
    "NERs, counts = zip(*countNER.items())\n",
    "\n",
    "indexes = np.arange(len(NERs))\n",
    "width = 1\n",
    "\n",
    "plt.bar(indexes, counts, width)\n",
    "plt.xticks(indexes + width * 0.5, NERs)\n",
    "plt.title(\"NER distribution without 'O' in validation data\")\n",
    "plt.show()"
   ]
  },
  {
   "cell_type": "code",
   "execution_count": 80,
   "metadata": {
    "colab": {
     "base_uri": "https://localhost:8080/"
    },
    "id": "DebFVD7kyN01",
    "outputId": "806afd28-2e13-4923-b1d0-eda48e859a98"
   },
   "outputs": [
    {
     "name": "stdout",
     "output_type": "stream",
     "text": [
      "Every aspect of life was regulated to some degree by the party , and the will of its founding-president , [B-PER]Mobutu[I-PER]Sese[I-PER]Seko. \n"
     ]
    }
   ],
   "source": [
    "text_try = train['text'][1]\n",
    "ner_try = train['NER'][1]\n",
    "words=str()\n",
    "for w in range(len(text_try)):\n",
    "    if ner_try[w] == \"O\":\n",
    "        words=words+str(text_try[w])+str(\" \")\n",
    "    else:\n",
    "        words=words+str('[')+str(ner_try[w])+str(']')+str(text_try[w])\n",
    "\n",
    "print(words)\n"
   ]
  },
  {
   "cell_type": "markdown",
   "metadata": {
    "id": "sO7go9ivDusU"
   },
   "source": [
    "<a name=\"q1\"></a>\n",
    "[[^^^]](#outline) \n",
    "\n",
    "What are your initial observations after you explore the dataset?  Provide some quantitative data exploration. Assess dataset size, document lengths and the token-level NER class distribution, and the entity-level NER class distribution (skipping the 'O' label for the latter). Give some examples of sentences with their named entities bracketed, e.g. [[B-LOC Romania] state budget soars in June .] and [[B-ORG Zifa] said [B-PER Renate] [I-PER Goetschl] of [B-LOC Austria]...]. \n"
   ]
  },
  {
   "cell_type": "markdown",
   "metadata": {
    "id": "dVbqyFYq1tOy"
   },
   "source": [
    "The size of training data is  7000 <br />\n",
    "The size of validation data is  400<br />\n",
    "The size of testing data is  400<br />\n",
    "The dataset size of training data is  166394<br />\n",
    "The dataset size of validation data is  9344<br />\n",
    "The dataset size of testing data is  8864<br />\n",
    "\n",
    "<br />\n",
    "\n",
    "After plotting the histogram of token-level NER class, we found that the label 'O' is the most common label, unsurprisingly. So we ignored the 'O' label for now and looked at the entity-level NER class distribution for both the training data and validation data. We found that for both dataset, 'B-LOC' is the most common label and 'I-ORG'is the least common label. \n"
   ]
  },
  {
   "cell_type": "markdown",
   "metadata": {
    "id": "37hVRaHczftR"
   },
   "source": [
    "Here is one example of sentences: <br>\n",
    "Every aspect of life was regulated to some degree by the party,and the will of its founding-president, [B-PER Mobutu]  [I-PER Sese]  [I-PER Seko]."
   ]
  },
  {
   "cell_type": "markdown",
   "metadata": {
    "id": "4NYvfchqqBf6"
   },
   "source": [
    "<a name=\"part2\"></a>\n",
    "# **Part 2: Hidden Markov Model**\n",
    "[[^^^]](#outline) \n",
    "---\n",
    "In this part of the assignment, you will:\n",
    "1. Implement code for counting and smoothing of labels and words, as well as unkown word handing, as necessary to support the Viterbi algorithm. \n",
    "2. Build a Hidden Markov Model in accordance with the provided function headers. **You may NOT change the function specifications.** Please ensure that your code is clear, concise, and, most important of all, modular. This means you should break your implementation down into smaller functions or write it within a class. Please compute all probabilities in natural log when building the HMM.\n",
    "3. Implement the **Viterbi algorithm**, that can be used to infer token-level labels (identifying the appropriate named entity) for an input document. This process is commonly referred to as **decoding**. Bigram-based Viterbi is $ \\mathcal{O}(sm^2)$ where *s* is the length of the sentence and *m* is the number of tags. Your implementation should have similar efficiency. The code for this can be used later on for the MEMM too.\n",
    "\n",
    "### References\n",
    "You may find chapters [3](https://web.stanford.edu/~jurafsky/slp3/3.pdf) and [8](https://web.stanford.edu/~jurafsky/slp3/8.pdf) of Jurafsky and Martin book useful. In particular, section 3.4.1 covers ways to handle unknown words, and section 3.5 goes over smoothing. "
   ]
  },
  {
   "cell_type": "markdown",
   "metadata": {
    "id": "-jUVJwSaE1tI"
   },
   "source": [
    "<a name=\"unknowns_handling\"></a>\n",
    "## **Unknown Word Handling**\n",
    "[[^^^]](#outline) \n",
    "---"
   ]
  },
  {
   "cell_type": "code",
   "execution_count": 81,
   "metadata": {
    "id": "44Bja4eQEMJR"
   },
   "outputs": [],
   "source": [
    "def unknown_word_handling(tokens, percent):\n",
    "    #tokens = train['text']\n",
    "    allTokens = [item for subitem in tokens for item in subitem]\n",
    "    TOKENs, TOKENcounts = zip(*Counter(allTokens).items())\n",
    "    TOKENs = list(TOKENs)\n",
    "    TOKENcounts = list(TOKENcounts)\n",
    "    dict_tokens = dict(zip(TOKENs, TOKENcounts))\n",
    "    dict_tokens = sorted(dict_tokens.items(), key = lambda item:item[1])\n",
    "    #print(sorted(dict_tokens.items(), key = lambda item:item[1]))\n",
    "    percentage = int(len(TOKENs)*percent)\n",
    "    dict_tokens_new= dict_tokens[0:percentage]\n",
    "    #print(dict_tokens_new)\n",
    "    unks=[]\n",
    "    for item in dict_tokens_new:\n",
    "        unks.append(item[0])\n",
    "    #print(unks)\n",
    "\n",
    "    for i in range(len(tokens)):\n",
    "        for j in range(len(tokens[i])):\n",
    "            if tokens[i][j] in unks:\n",
    "                tokens[i][j] = '<unk>'\n",
    "\n",
    "    train_text_new = tokens\n",
    "    return train_text_new\n",
    "\n",
    "\n"
   ]
  },
  {
   "cell_type": "code",
   "execution_count": 82,
   "metadata": {
    "colab": {
     "base_uri": "https://localhost:8080/"
    },
    "id": "oWq2c6cxFQvq",
    "outputId": "8319933d-8b68-4de7-8464-3f8d69eeb0a2"
   },
   "outputs": [
    {
     "data": {
      "text/plain": [
       "2482"
      ]
     },
     "execution_count": 82,
     "metadata": {},
     "output_type": "execute_result"
    }
   ],
   "source": [
    "train_text_new = unknown_word_handling(train['text'],0.1)\n",
    "len([token for sentence in train_text_new for token in sentence if token =='<unk>'])\n",
    "\n"
   ]
  },
  {
   "cell_type": "markdown",
   "metadata": {
    "id": "aLuTFUV5FA3m"
   },
   "source": [
    "<a name=\"hmm_implementation\"></a>\n",
    "## **HMM Implementation**\n",
    "[[^^^]](#outline) \n",
    "---\n",
    "\n",
    "In the skeleton code below, we have broken down the HMM into its three components: the transition matrix, the emission matrix, and the start state probabilities. We suggest you implement them separately and then use them to build the HMM.\n"
   ]
  },
  {
   "cell_type": "code",
   "execution_count": 83,
   "metadata": {
    "id": "NBJgSrRtFZuG"
   },
   "outputs": [],
   "source": [
    "# Returns the transition probabilities.\n",
    "def build_transition_matrix(labels, k=0):\n",
    "    \n",
    "    \"\"\"\n",
    "    Returns a dictionary that has tuples of every label bigram as keys, and\n",
    "    the associated value being the respective transition probabilities (in \n",
    "    natural log).\n",
    "\n",
    "    Eg. {(\"O\", \"B-ORG\"): -9.98690147425591, \n",
    "         (\"B-LOC\", \"I-LOC\"): -3.69537214,\n",
    "         ...,\n",
    "         ...,\n",
    "        }\n",
    "    \n",
    "    :parameter labels: A list where each element represents a sentence, \n",
    "    and each sentence is a list of NER labels for each of its tokens. (Eg. \n",
    "    [['O', 'O', 'O', 'O', 'O', 'O', 'B-LOC', 'O'], [...], ...])\n",
    "    :type labels: List[List[String]]\n",
    "    :parameter k: an optional parameter for smoothing\n",
    "    :type k: int\n",
    "    \"\"\"\n",
    "    \n",
    "    #get types and counts of NERs\n",
    "    allNER = [item for subNER in labels for item in subNER]\n",
    "    from collections import Counter\n",
    "    NERs, NERcounts = zip(*Counter(allNER).items())\n",
    "    #get different sequences of NERs\n",
    "    ner=list(NERs)\n",
    "    ner.append('[end]')\n",
    "    ner_count=list(NERcounts)\n",
    "    seq=[]\n",
    "    N=[]\n",
    "    for n in range(0,len(ner)-1):\n",
    "        for i in range(0,len(ner)):\n",
    "            label=(ner[n],ner[i])\n",
    "            seq.append(label)\n",
    "            N.append(ner_count[n])\n",
    "\n",
    "    #count of each sequence \n",
    "    count=[]\n",
    "    for comb in seq:\n",
    "        sentence_count=0\n",
    "        if list(comb)[1] == '[end]': \n",
    "            for entity in labels:\n",
    "                if entity[-1] == list(comb)[0]:\n",
    "                    sentence_count=sentence_count+1\n",
    "            count.append(sentence_count)\n",
    "        else:\n",
    "            for entity in labels:\n",
    "                for i in range(len(entity)-1):\n",
    "                    if list(comb) == entity[i:i+2]:\n",
    "                        sentence_count=sentence_count+1\n",
    "            count.append(sentence_count) \n",
    "\n",
    "    #calculate probabilities\n",
    "    prob_trans = []\n",
    "    for a in range(0,len(seq)):\n",
    "    #smoothing here add k\n",
    "        problog=np.log((count[a]+k)/(N[a]+k*(len(ner))))\n",
    "        prob_trans.append(problog)\n",
    "    #output dictionary\n",
    "    transition = {}\n",
    "    for b in range(0,len(seq)):\n",
    "        key=seq[b]\n",
    "        transition[key]=prob_trans[b]\n",
    "  \n",
    "    return(transition)\n"
   ]
  },
  {
   "cell_type": "code",
   "execution_count": 84,
   "metadata": {
    "id": "4CjBY3y1VOms"
   },
   "outputs": [],
   "source": [
    "#build_transition_matrix(labels=train['NER'],k=0)"
   ]
  },
  {
   "cell_type": "code",
   "execution_count": 85,
   "metadata": {
    "id": "gRt-pjh4FvZ2"
   },
   "outputs": [],
   "source": [
    "# Returns the emission probabilities.\n",
    "def build_emission_matrix(tokens, labels, k=0):\n",
    "    \"\"\"\n",
    "    Returns a dictionary that has label-token tuples as keys, and emission \n",
    "    probabilities (in natural log) for each respective label-token pair as values.  \n",
    "\n",
    "    Eg. {(\"O\", \"Because\"): -10.133904545421267, \n",
    "         (\"I-PER\", \"Markov\"): -7.428569227340841,\n",
    "         ...,\n",
    "         ...,\n",
    "        }\n",
    "    \n",
    "    :parameter tokens: A list where each element represents a sentence, \n",
    "    and each sentence is a list of its tokens. (Eg. [['The', 'most', \n",
    "    'significant', 'damage', 'was', 'on', 'Tortola', '.'], [...], ...])\n",
    "    :type tokens: List[List[String]]\n",
    "    :parameter labels: A list where each element represents a sentence, \n",
    "    and each sentence is a list of NER labels for each of its tokens. (Eg. \n",
    "    [['O', 'O', 'O', 'O', 'O', 'O', 'B-LOC', 'O'], [...], ...])\n",
    "    :type labels: List[List[String]]\n",
    "    :parameter k: an optional parameter for smoothing\n",
    "    :type k: int\n",
    "    \"\"\"\n",
    "    emission = defaultdict(float)\n",
    "    allNERs = [item for subitem in labels for item in subitem]\n",
    "    uni_NERs = list(set(allNERs))\n",
    "    allTokens = [item for subitem in tokens for item in subitem]\n",
    "    uni_tokens = list(set(allTokens))\n",
    "    V = len(uni_tokens)\n",
    "    #print(len(allNERs)==len(allTokens)) # work\n",
    "    numNER = dict(Counter(allNERs).items())\n",
    "    \n",
    "    count = defaultdict(int)\n",
    "    for i in range(len(tokens)):\n",
    "        for j in range(len(tokens[i])):\n",
    "            entry = (labels[i][j],tokens[i][j])\n",
    "            count[entry] = count[entry] + 1\n",
    "    \n",
    "    #print(count) # work\n",
    "    \n",
    "    for token in uni_tokens:\n",
    "        for ner in uni_NERs:\n",
    "            entry = (ner, token)\n",
    "            #print(entry)\n",
    "            if entry in count.keys():\n",
    "                #print('yes!!')\n",
    "                prob = np.log((count[entry] + k)/(numNER[ner]+k*V))\n",
    "            else:\n",
    "                #print('smoothing!!')\n",
    "                prob = np.log(k/(numNER[ner]+k*V))\n",
    "            emission[entry] = prob\n",
    "            \n",
    "    emission[('[end]','<end>')] = np.log(1)\n",
    "\n",
    "    \n",
    "    return emission\n"
   ]
  },
  {
   "cell_type": "code",
   "execution_count": 86,
   "metadata": {
    "colab": {
     "base_uri": "https://localhost:8080/"
    },
    "id": "vERzXpoU2vM9",
    "outputId": "454f8489-f28b-4394-9b81-67a488be5e47"
   },
   "outputs": [
    {
     "data": {
      "text/plain": [
       "defaultdict(float,\n",
       "            {('a', 'earth'): -1.9459101490553135,\n",
       "             ('c', 'earth'): -1.791759469228055,\n",
       "             ('b', 'earth'): -1.252762968495368,\n",
       "             ('a', 'the'): -1.252762968495368,\n",
       "             ('c', 'the'): -1.791759469228055,\n",
       "             ('b', 'the'): -1.9459101490553135,\n",
       "             ('a', 'most'): -1.9459101490553135,\n",
       "             ('c', 'most'): -1.791759469228055,\n",
       "             ('b', 'most'): -1.252762968495368,\n",
       "             ('a', 'on'): -1.252762968495368,\n",
       "             ('c', 'on'): -1.791759469228055,\n",
       "             ('b', 'on'): -1.9459101490553135,\n",
       "             ('a', 'damage'): -1.9459101490553135,\n",
       "             ('c', 'damage'): -1.0986122886681098,\n",
       "             ('b', 'damage'): -1.9459101490553135,\n",
       "             ('[end]', '<end>'): 0.0})"
      ]
     },
     "execution_count": 86,
     "metadata": {},
     "output_type": "execute_result"
    }
   ],
   "source": [
    "# build_emission_matrix([['the','most'],['damage','on','earth']], [['a','b'],['c','a','b']], k=1)\n"
   ]
  },
  {
   "cell_type": "code",
   "execution_count": 87,
   "metadata": {
    "id": "eh4QOTOq0IAc"
   },
   "outputs": [],
   "source": [
    "#build_emission_matrix(train['text'], train['NER'], k=0)"
   ]
  },
  {
   "cell_type": "code",
   "execution_count": 88,
   "metadata": {
    "id": "VTN9B6k0HK77"
   },
   "outputs": [],
   "source": [
    "# Returns the starting state probabilities.\n",
    "def get_start_state_probs(labels, k=0):\n",
    "    \"\"\"\n",
    "    Returns a dictionary that has labels for keys, and each respective state \n",
    "    probabilities (in natural log) for values.  \n",
    "\n",
    "    Eg. {\"O\": -10.133904545421267, \n",
    "         \"I-PER\": -7.428569227340841,\n",
    "         ...,\n",
    "         ...,\n",
    "        }\n",
    "    \n",
    "    :parameter labels: A list where each element represents a sentence, \n",
    "    and each sentence is a list of NER labels for each of its tokens. (Eg. \n",
    "    [['O', 'O', 'O', 'O', 'O', 'O', 'B-LOC', 'O'], [...], ...])\n",
    "    :type labels: List[List[String]]\n",
    "    :parameter k: an optional parameter for smoothing\n",
    "    :type k: int\n",
    "    \"\"\"\n",
    "    from collections import defaultdict\n",
    "    allNER = [item for subNER in labels for item in subNER]\n",
    "    NERs = list(set(allNER))\n",
    "    start_Prob = dict.fromkeys(NERs, 0.0)\n",
    "    count = defaultdict(int)\n",
    "    \n",
    "    for e in labels:\n",
    "        startNER = e[0]\n",
    "        count[startNER] = count[startNER] + 1\n",
    "        \n",
    "    for startNER in NERs:\n",
    "        if startNER in count.keys():\n",
    "            start_Prob[startNER] = np.log((count[startNER]+k)/(len(labels)+k*len(NERs)))\n",
    "        else:\n",
    "            start_Prob[startNER] = np.log(k/(len(labels)+k*len(NERs)))\n",
    "        #start_Prob[startNER] = count[startNER]/len(labels)\n",
    "        \n",
    "    start_Prob['[end]'] = -99999999999999999999\n",
    "    \n",
    "    return start_Prob\n"
   ]
  },
  {
   "cell_type": "code",
   "execution_count": 89,
   "metadata": {
    "id": "LU3Ff-CKInqo"
   },
   "outputs": [],
   "source": [
    "# Takes in the tokens & labels and returns a representation of the HMM.\n",
    "# Call the three functions above in this function to build your HMM.\n",
    "def build_hmm(tokens, labels):\n",
    "    start_Prob = get_start_state_probs(labels,k=0.01)\n",
    "    transition = build_transition_matrix(labels, k=0.02)\n",
    "    emission = build_emission_matrix(tokens, labels,k=0.03)\n",
    "    allTokens = list(set([item for subitem in tokens for item in subitem]))\n",
    "    allLabels = list(set([item for subitem in labels for item in subitem]))\n",
    "    allLabels.append('[end]')\n",
    "    return (allLabels, allTokens, start_Prob, transition, emission)\n"
   ]
  },
  {
   "cell_type": "markdown",
   "metadata": {
    "id": "Pbw3RTHPI31j"
   },
   "source": [
    "<a name=\"viterbi_implementation\"></a>\n",
    "## **Viterbi Implementation**\n",
    "[[^^^]](#outline) \n",
    "---\n",
    "\n",
    "At the end of your implementation, we expect a function or class that maps a sequence of tokens (observation) to a sequence of labels via the Viterbi algorithm."
   ]
  },
  {
   "cell_type": "code",
   "execution_count": 90,
   "metadata": {
    "id": "C_q3U42lI3LQ"
   },
   "outputs": [],
   "source": [
    "# Takes in the HMM build above and an observation (i.e. a list of tokens),\n",
    "# and returns a list with predicted named entity mappings for the tokens.\n",
    "# The returned list should be the same length as the input obeservation.\n",
    "def viterbi(hmm, observation):\n",
    "    #print(observation)\n",
    "    allNERs, allTokens, start_Prob, transition, emission = hmm\n",
    "    #print(allNERs)\n",
    "    allNERs_noEnd = [NER for NER in allNERs if NER != '[end]']\n",
    "    L = len(observation) # length of the observation list\n",
    "    #print(\"L:\",L)\n",
    "    numNER = len(allNERs)\n",
    "    \n",
    "    for i in range(L):\n",
    "        if observation[i] not in allTokens:\n",
    "            observation[i] = \"<unk>\"\n",
    "        \n",
    "    \n",
    "    observation.append('<end>')\n",
    "    L = len(observation)\n",
    "    #print(observation)\n",
    "    \n",
    "    table = {NER: [[0.0,[]] for col in range(L)] for NER in allNERs}\n",
    "    #print(table)\n",
    "    \n",
    "    for NER in allNERs:\n",
    "        #print(\"NER\",NER)\n",
    "        prob = start_Prob[NER] + emission[(NER,observation[0])]\n",
    "        table[NER][0][0] = prob\n",
    "    #print(table)\n",
    "    \n",
    "    for col in range(1,L): #for each token\n",
    "        #print(col)\n",
    "        for NER1 in allNERs: #for each NER1 row\n",
    "            choices = []\n",
    "            for NER2 in allNERs_noEnd: # for each possible previous NER2\n",
    "                #print(NER1, NER2)\n",
    "                pre = table[NER2][col-1]\n",
    "                #print('pre:', pre)\n",
    "                prob = pre[0] + emission[(NER1,observation[col])] + transition[(NER2,NER1)]\n",
    "                #print(prob)\n",
    "                tags = pre[1]+[NER2]\n",
    "                #print('tags:',tags)\n",
    "                choice = (prob,tags)\n",
    "                choices.append(choice)\n",
    "                #print('choices:', choices)\n",
    "            target = max(choices)\n",
    "            #print(\"target:\",target)\n",
    "            table[NER1][col] = target\n",
    "            #print(\"table22222:\",table)\n",
    "\n",
    "    #print(\"table\",table)\n",
    "    \n",
    "    max_prob = -999999999999999999\n",
    "    max_tags = None\n",
    "    \n",
    "    for NER in allNERs:\n",
    "        prob,tags = table[NER][-1]\n",
    "        if prob > max_prob:\n",
    "            max_prob = prob\n",
    "            max_tags = tags\n",
    "    \n",
    "    return max_tags\n",
    "                "
   ]
  },
  {
   "cell_type": "code",
   "execution_count": 91,
   "metadata": {
    "colab": {
     "base_uri": "https://localhost:8080/"
    },
    "id": "vEamJbeHrxfm",
    "outputId": "3636982f-7626-46d6-ce4f-5a1f15fbe2c5"
   },
   "outputs": [
    {
     "data": {
      "text/plain": [
       "['H', 'C', 'H', 'C']"
      ]
     },
     "execution_count": 91,
     "metadata": {},
     "output_type": "execute_result"
    }
   ],
   "source": [
    "tokens = [['3', '2' ,'3'],['3','1'],['1','3'],['1','1'],['3','1','3']]\n",
    "labels = [['H', 'C','H'],['H','C'],['C','H'],['C','C'], ['H','C','H']]\n",
    "hmm = build_hmm(tokens, labels)\n",
    "\n",
    "viterbi(hmm,['3','1','3','1'])"
   ]
  },
  {
   "cell_type": "markdown",
   "metadata": {
    "id": "drUIhqRPFoF1"
   },
   "source": [
    "# HMM training"
   ]
  },
  {
   "cell_type": "code",
   "execution_count": 226,
   "metadata": {
    "id": "XRZUmqGbFnSE"
   },
   "outputs": [],
   "source": [
    "\n",
    "# TODO: please change the line below with your drive organization\n",
    "path = os.path.join(os.getcwd(),\"cs-4740-fa22-hw1-named-entity-recognition\")\n",
    "\n",
    "with open(os.path.join(path,'train.json'), 'r') as f:\n",
    "     train = json.loads(f.read())\n",
    "\n",
    "with open(os.path.join(path,'val.json'), 'r') as f:\n",
    "     val = json.loads(f.read())\n",
    "\n",
    "with open(os.path.join(path,'test.json'), 'r') as f:\n",
    "     test = json.loads(f.read())"
   ]
  },
  {
   "cell_type": "code",
   "execution_count": 93,
   "metadata": {
    "id": "sv6gjhihFsuv"
   },
   "outputs": [],
   "source": [
    "#train_text_lowered = lowerCase(train['text'])\n",
    "#train_text = unknown_word_handling(train_text_lowered,0.2)\n",
    "train_text = unknown_word_handling(train['text'],0.15)\n",
    "\n"
   ]
  },
  {
   "cell_type": "code",
   "execution_count": 94,
   "metadata": {
    "id": "v994c0v-xZN5"
   },
   "outputs": [],
   "source": [
    "hmm = build_hmm(train_text,train['NER'])\n",
    "\n"
   ]
  },
  {
   "cell_type": "code",
   "execution_count": 95,
   "metadata": {
    "colab": {
     "base_uri": "https://localhost:8080/"
    },
    "id": "Ie6NXgJAKOEM",
    "outputId": "0dbbee7e-11a2-49fa-de5e-0270ca80c73e"
   },
   "outputs": [
    {
     "data": {
      "text/plain": [
       "['B-ORG',\n",
       " 'I-ORG',\n",
       " 'O',\n",
       " 'O',\n",
       " 'O',\n",
       " 'B-LOC',\n",
       " 'O',\n",
       " 'O',\n",
       " 'O',\n",
       " 'O',\n",
       " 'B-PER',\n",
       " 'I-PER',\n",
       " 'O']"
      ]
     },
     "execution_count": 95,
     "metadata": {},
     "output_type": "execute_result"
    }
   ],
   "source": [
    "# Here's a sample observations that you can use to test your code\n",
    "obs_1 = ['Cornell',\n",
    " 'University',\n",
    " 'is',\n",
    " 'located',\n",
    " 'in',\n",
    " 'Ithaca',\n",
    " 'and',\n",
    " 'was',\n",
    " 'founded',\n",
    " \"by\", \"Ezra\", \"Cornell\", \".\" ]\n",
    "\n",
    "# Uncomment and fill out the following line to test your implementation:\n",
    "viterbi(hmm, obs_1)\n",
    "\n",
    "\n"
   ]
  },
  {
   "cell_type": "markdown",
   "metadata": {
    "id": "2J8NdM_V_A4u"
   },
   "source": [
    "## **Validation Step**\n",
    "<a name=\"validation_data\"></a>\n",
    "[[^^^]](#outline) \n",
    "---\n",
    "\n",
    "In this part of the project, we expect you to train your HMM model (i.e., get transition and emission probabilities) on the labeled training data and evaluate it on the validation data. Report **Entity Level Mean F1**, which was explained earlier. Please use the code we have provided below to compute this metric.\n",
    "\n",
    "Please also take a look into your misclassified cases, as we will be performing error analysis in the *Evaluation* section. We expect smoothing, unknown word handling and correct emission (i.e., lexical generation) probabilities."
   ]
  },
  {
   "cell_type": "markdown",
   "metadata": {
    "id": "oTAhu_TG1V0R"
   },
   "source": [
    "Consider the example below. After getting a sequence of NER labels for the sequence of tokens from your Viterbi algorithm implementation, you need to convert the sequence of tokens, associated token indices and NER labels into a format which can be used to calculate **Entity Level Mean F1**. We do this by finding the starting and ending indices of the spans representing each entity (as given in the corpus) and adding it to a list that is associated with the label with which the spans are labelled. To score your validation data on Google Colab or your local device, you can get a dictionary format as shown in the picture below from the function **format_output_labels** of both the predicted and true label sequences, and use the two dictionaries as input to the **mean_f1** function.\n",
    "\n",
    "NOTE: We do **not** include the spans of the tokens labelled as \"O\" in the formatted dictionary output."
   ]
  },
  {
   "cell_type": "code",
   "execution_count": 96,
   "metadata": {
    "id": "HdOOQdN7D2rv"
   },
   "outputs": [],
   "source": [
    "def format_output_labels(token_labels, token_indices):\n",
    "    \"\"\"\n",
    "    Returns a dictionary that has the labels (LOC, ORG, MISC or PER) as the keys, \n",
    "    with the associated value being the list of entities predicted to be of that key label. \n",
    "    Each entity is specified by its starting and ending position indicated in [token_indices].\n",
    "\n",
    "    Eg. if [token_labels] = [\"B-ORG\", \"I-ORG\", \"O\", \"O\", \"B-ORG\"]\n",
    "           [token_indices] = [15, 16, 17, 18, 19]\n",
    "        then dictionary returned is \n",
    "        {'LOC': [], 'MISC': [], 'ORG': [(15, 16), (19, 19)], 'PER': []}\n",
    "\n",
    "    :parameter token_labels: A list of token labels (eg. B-PER, I-PER, B-LOC, I-LOC, B-ORG, I-ORG, B-MISC, OR I-MISC).\n",
    "    :type token_labels: List[String]\n",
    "    :parameter token_indices: A list of token indices (taken from the dataset) \n",
    "                              corresponding to the labels in [token_labels].\n",
    "    :type token_indices: List[int]\n",
    "    \"\"\"\n",
    "    label_dict = {\"LOC\":[], \"MISC\":[], \"ORG\":[], \"PER\":[]}\n",
    "    prev_label = 'O'\n",
    "    start = token_indices[0]\n",
    "    for idx, label in enumerate(token_labels):\n",
    "        curr_label = label.split('-')[-1]\n",
    "        if label.startswith('B-') or curr_label != prev_label:\n",
    "            if prev_label != 'O':\n",
    "                label_dict[prev_label].append((start, token_indices[idx-1]))\n",
    "            if curr_label != 'O':\n",
    "                start = token_indices[idx]\n",
    "            else:\n",
    "                start = None\n",
    "      \n",
    "        prev_label = curr_label\n",
    "\n",
    "    if start is not None and prev_label != 'O':\n",
    "        label_dict[prev_label].append((start, token_indices[idx]))\n",
    "    return label_dict\n"
   ]
  },
  {
   "cell_type": "code",
   "execution_count": 97,
   "metadata": {
    "id": "lfjVJLNhL_fc"
   },
   "outputs": [],
   "source": [
    "# Code for mean F1\n",
    "\n",
    "import numpy as np\n",
    "\n",
    "def mean_f1(y_pred_dict, y_true_dict):\n",
    "    \"\"\" \n",
    "    Calculates the entity-level mean F1 score given the actual/true and \n",
    "    predicted span labels.\n",
    "    :parameter y_pred_dict: A dictionary containing predicted labels as keys and the \n",
    "                            list of associated span labels as the corresponding\n",
    "                            values.\n",
    "    :type y_pred_dict: Dict<key [String] : value List[Tuple]>\n",
    "    :parameter y_true_dict: A dictionary containing true labels as keys and the \n",
    "                            list of associated span labels as the corresponding\n",
    "                            values.\n",
    "    :type y_true_dict: Dict<key [String] : value List[Tuple]>\n",
    "\n",
    "    Implementation modified from original by author @shonenkov at\n",
    "    https://www.kaggle.com/shonenkov/competition-metrics.\n",
    "    \"\"\"\n",
    "    F1_lst = []\n",
    "    valid_dict={}\n",
    "    for key in y_true_dict:\n",
    "        TP, FN, FP = 0, 0, 0\n",
    "        num_correct, num_true = 0, 0\n",
    "        preds = y_pred_dict[key]\n",
    "        trues = y_true_dict[key]\n",
    "        for true in trues:\n",
    "            num_true += 1\n",
    "            if true in preds:\n",
    "                num_correct += 1\n",
    "            else:\n",
    "                continue\n",
    "        num_pred = len(preds)\n",
    "        if num_true != 0:\n",
    "            if num_pred != 0 and num_correct != 0:\n",
    "                R = num_correct / num_true\n",
    "                P = num_correct / num_pred\n",
    "                F1 = 2*P*R / (P + R)\n",
    "            else:\n",
    "                F1 = 0      # either no predictions or no correct predictions\n",
    "        else:\n",
    "            continue\n",
    "        valid_dict[key] = [num_correct,num_true,num_pred]\n",
    "        F1_lst.append(F1)\n",
    "    #print(valid_dict)\n",
    "    return np.mean(F1_lst),valid_dict\n",
    "\n"
   ]
  },
  {
   "cell_type": "code",
   "execution_count": 104,
   "metadata": {},
   "outputs": [
    {
     "name": "stdout",
     "output_type": "stream",
     "text": [
      "{'LOC': [118, 225, 141], 'MISC': [60, 165, 88], 'ORG': [35, 95, 55], 'PER': [108, 192, 117]}\n",
      "Entity document Mean F1 score is :  0.5058374542124542\n"
     ]
    }
   ],
   "source": [
    "# Evaluate/validate your model here\n",
    "\n",
    "F1 = []\n",
    "summ = {\"LOC\":[0,0,0], \"MISC\":[0,0,0], \"ORG\":[0,0,0], \"PER\":[0,0,0]}\n",
    "for i in range(len(val['text'])):\n",
    "    obs = val['text'][i]\n",
    "    true_token_labels = val['NER'][i]\n",
    "    token_indices = val['index'][i]\n",
    "    pred_token_labels = viterbi(hmm, obs)\n",
    "    y_pred_dict = format_output_labels(pred_token_labels, token_indices)\n",
    "    #print(\"y_pred_dict is : \" + str(y_pred_dict))\n",
    "    y_true_dict = format_output_labels(true_token_labels, token_indices)\n",
    "    #print(\"y_true_dict is : \" + str(y_true_dict))\n",
    "    #print(mean_f1(y_pred_dict, y_true_dict))\n",
    "    f1 = mean_f1(y_pred_dict, y_true_dict)[0]\n",
    "    dic = mean_f1(y_pred_dict,y_true_dict)[1]\n",
    "    #print(dic)\n",
    "    for key in summ:\n",
    "        if key in dic.keys():\n",
    "            for i in range(0,3):\n",
    "                summ[key][i] = dic[key][i] + summ[key][i]\n",
    "    #print(summ)\n",
    "    F1.append(f1)\n",
    "\n",
    "meanF1 = np.mean(F1)\n",
    "print(summ)\n",
    "print(\"Entity document Mean F1 score is : \", meanF1)\n",
    "\n"
   ]
  },
  {
   "cell_type": "code",
   "execution_count": 99,
   "metadata": {},
   "outputs": [
    {
     "name": "stdout",
     "output_type": "stream",
     "text": [
      "{'LOC': {'Recall': 0.5244444444444445, 'Precision': 0.8368794326241135, 'F1': 0.6448087431693991}, 'MISC': {'Recall': 0.36363636363636365, 'Precision': 0.6818181818181818, 'F1': 0.4743083003952569}, 'ORG': {'Recall': 0.3684210526315789, 'Precision': 0.6363636363636364, 'F1': 0.4666666666666667}, 'PER': {'Recall': 0.5625, 'Precision': 0.9230769230769231, 'F1': 0.6990291262135923}}\n"
     ]
    }
   ],
   "source": [
    "\n",
    "result = {\"LOC\":{\"Recall\":[],\"Precision\":[],\"F1\":[]}, \"MISC\":{\"Recall\":[],\"Precision\":[],\"F1\":[]}, \"ORG\":{\"Recall\":[],\"Precision\":[],\"F1\":[]}, \"PER\":{\"Recall\":[],\"Precision\":[],\"F1\":[]}}\n",
    "for key in summ.keys():\n",
    "    result[key]['Recall'] = summ[key][0]/summ[key][1]\n",
    "    result[key]['Precision'] = summ[key][0]/summ[key][2]\n",
    "    result[key]['F1'] = (2*result[key]['Recall']*result[key]['Precision'])/(result[key]['Recall']+result[key]['Precision'])\n",
    "print(result)\n"
   ]
  },
  {
   "cell_type": "markdown",
   "metadata": {
    "id": "YRLi5TDyuSx_"
   },
   "source": [
    "<a name=\"q2.1\"></a>\n",
    "[[^^^]](#outline) \n",
    "## **Q2.1: Explain your HMM Implementations**\n",
    "\n",
    "Explain how you implemented the HMM including the Viterbi algorithm. Make clear which parts were implemented from scratch vs. obtained via an existing package (review the Logistics section for information on packages that are not allowed). Explain and motivate any design choices providing the intuition behind them.\n"
   ]
  },
  {
   "cell_type": "markdown",
   "metadata": {
    "id": "sL2bUPVkNpbt"
   },
   "source": [
    "#### **A2.1:**\n",
    "\n",
    "The first part is unknown word handling. In our algorithm, we choose the second alternative listed in Jurafsky and Martin's book. The main idea is to replace the words in training data with <unk> based on their frequency. Since the frequency distribution is skewed, we didn't replace words whose frequency is smaller than a certain value. Most of the words have 1 or 2 frequencies, but some common words like \"the\" and \"a\" and large frequencies. Using certain values to replace words with <unk> will make us lose a lot of informative words. Thus, we choose to replace words based on quantiles like the last 20%. The function is named `unknown_word_handling(tokens,percent)`. The input has two parameters, one is the original document text and the other is the quantile. <br>\n",
    "    \n",
    "Then we start to build three main parts of the Viterbi algorithm. <br>\n",
    "    \n",
    "The first part is generating the transition matrix. The function is named `build_transition_matrix(labels, k)` . The transition probability is the probability of one tag depending on the given previous tag, which is ``P(tag1|tag2)``. Also, to specify the end state, we choose to append a [end] tag at the end of the sentence. Since some of the tag combinations will have 0 occurrences and the logarithm for 0 doesn't exist, we try to smooth this probability by adding a specific value k.<br>\n",
    "    \n",
    "The second part is generating the emission matrix. The function is named `build_emission_matrix(tokens, labels, k)`. The emission probability is the probability of one word depending on a given tag, which is `P(word|tag)`. We also include a <end> word in the word lists to specify the end state and include k to smooth the 0 probabilities. Since there is a (<end>,[end]) combination, we assigned log(1) to this probability and it will not affect the result. <br>\n",
    "The third part is generating the start state. The function is named `get_start_state_probs(labels, k)`. We need to get q0 in the Viterbi chart. The start probability is the probability of each tag appearing at the beginning of a sentence. <br>\n",
    "    \n",
    "In the function `build_hmm(tokens, labels)`, we input the training labels and tokens, as well as call the three functions above to return the matrices that are needed by the Viterbi algorithm. Also, in this function, we can specify different smoothing parameters k. The output is the unzipped label list, token list, start probabilities, transition matrix, and emission matrix. <br>\n",
    "    \n",
    "After that, we input all of the above to build a Viterbi algorithm called viterbi(hmm, observation). The parameter observation is the actual test/validation data and hmm is the inputs from the build_hmm() function. We initialized a table to store all probabilities and states recorded in each step. Also, we use the same logic as above the deal with unknown words that appear in the test data. The start state is the start probabilities times the first words’ emission probabilities. In the loops, each iteration we compare the probabilities of previous step times emission and transition probabilities. Then, we create a list ` choice` to record each step’s best choice tags and the maximized probabilities. \n"
   ]
  },
  {
   "cell_type": "markdown",
   "metadata": {
    "id": "DHbzRuil-yjG"
   },
   "source": [
    "<a name=\"q2.2\"></a>\n",
    "[[^^^]](#outline) \n",
    "## **Q2.2: Results Analysis**\n",
    "\n",
    "Explain here how you evaluated the models. Summarize the performance of your system and any variations that you experimented with on the validation datasets. Put the results into clearly labeled tables or diagrams and include your observations and analysis.\n"
   ]
  },
  {
   "cell_type": "markdown",
   "metadata": {
    "id": "j_aBZqFKOKRO"
   },
   "source": [
    "#### **A2.2:**\n",
    "\n",
    "We evaluated the models using the F1 score calculated by the provided function. The entity document Mean F1 score on the validation data is 0.5058. We experimented with different parameters on unknown word handling (below which frequency we change the word into <unk>), transition/start probability smoothing parameters, and emission smoothing parameters. We did not record all the experiment results, but below is a table for some experiment we have done and how do they influence the performance of HMM model.\n",
    "\n",
    "| unknown word handling percentage | smoothing (transition/start) | smoothing (emission) | F1 |\n",
    "| --- | --- | --- | ---|\n",
    "| 0 | 0 | 0  | 0\n",
    "| 0.1 | 1 | 1 | 0.23 |\n",
    "| 0.15 | 1 | 1 | 0.25 |\n",
    "| 0.15 | 0.1 | 0.1 | 0.46 |\n",
    "| 0.15 | 0.02 | 0.03 | 0.50 |\n",
    "    \n",
    "We observe that the best parameters of the smoothing are very small (smaller than 0.1). We chose 1 as the parameter for smoothing in the first try and this did not work. We guess it is because there are many words with only 1 occurance in the trainning data, if we add 1 for the smoothing reason, the model cannot tell the probablistic differences between smoothing and actual word in the data.\n",
    "  "
   ]
  },
  {
   "cell_type": "markdown",
   "metadata": {
    "id": "rTIPGnLFNc43"
   },
   "source": [
    "<a name=\"q2.3\"></a>\n",
    "[[^^^]](#outline) \n",
    "## **Q2.3: Error Analysis**\n",
    "When did the system work well? When did it fail?  Any ideas as to why? How might you improve the system?\n"
   ]
  },
  {
   "cell_type": "code",
   "execution_count": 100,
   "metadata": {},
   "outputs": [
    {
     "data": {
      "text/html": [
       "<div>\n",
       "<style scoped>\n",
       "    .dataframe tbody tr th:only-of-type {\n",
       "        vertical-align: middle;\n",
       "    }\n",
       "\n",
       "    .dataframe tbody tr th {\n",
       "        vertical-align: top;\n",
       "    }\n",
       "\n",
       "    .dataframe thead th {\n",
       "        text-align: right;\n",
       "    }\n",
       "</style>\n",
       "<table border=\"1\" class=\"dataframe\">\n",
       "  <thead>\n",
       "    <tr style=\"text-align: right;\">\n",
       "      <th></th>\n",
       "      <th>LOC</th>\n",
       "      <th>MISC</th>\n",
       "      <th>ORG</th>\n",
       "      <th>PER</th>\n",
       "    </tr>\n",
       "  </thead>\n",
       "  <tbody>\n",
       "    <tr>\n",
       "      <th>Recall</th>\n",
       "      <td>0.524444</td>\n",
       "      <td>0.363636</td>\n",
       "      <td>0.368421</td>\n",
       "      <td>0.562500</td>\n",
       "    </tr>\n",
       "    <tr>\n",
       "      <th>Precision</th>\n",
       "      <td>0.836879</td>\n",
       "      <td>0.681818</td>\n",
       "      <td>0.636364</td>\n",
       "      <td>0.923077</td>\n",
       "    </tr>\n",
       "    <tr>\n",
       "      <th>F1</th>\n",
       "      <td>0.644809</td>\n",
       "      <td>0.474308</td>\n",
       "      <td>0.466667</td>\n",
       "      <td>0.699029</td>\n",
       "    </tr>\n",
       "  </tbody>\n",
       "</table>\n",
       "</div>"
      ],
      "text/plain": [
       "                LOC      MISC       ORG       PER\n",
       "Recall     0.524444  0.363636  0.368421  0.562500\n",
       "Precision  0.836879  0.681818  0.636364  0.923077\n",
       "F1         0.644809  0.474308  0.466667  0.699029"
      ]
     },
     "execution_count": 100,
     "metadata": {},
     "output_type": "execute_result"
    }
   ],
   "source": [
    "import pandas as pd \n",
    "\n",
    "pd.DataFrame.from_dict(result)"
   ]
  },
  {
   "cell_type": "markdown",
   "metadata": {
    "id": "u7j0YVozOMIT"
   },
   "source": [
    "#### **A2.3:**\n",
    "\n",
    "The overall F1 score of HMM model with respect to the validation data is 0.5058. According the previous table, we can see different tags have different recall, precision and F1 scores. The recall is #Correct NEs / # Predicted NEs, the precision is #Correct NEs / #NEs in answer key, and the F-Measure(F1) is 2PR / (P+R). In our model, this table shows that the PER tags have the best performance, with the highest F1 score of 0.699, the recall of 0.563, the precision of 0.923. According to the definition of recall, we can say there are about 56.3% trure PER tags are correctly detected by the HMM model. The LOC has relatively good performance, and MISC is a bit worse. The ORG tags have the worst performance, with the lowest F1 score of 0.466, the recall of 0.368 and the precision of 0.636. The result depicted that this system works well when recognizing person's names and locations, but it fails when recognizing organization names and miscellaneous entities. <br> \n",
    "\n",
    "This probably is because persons' names and locations' names have some simpler rules to follow, like first name plus last name, or location name plus city or town. However, the organization names and miscellaneous entities may have more complex rules, some of them may contain non-informative words like\"the\",\"of\",\"a\" inside these names. Also, this probably is because persons' names and locations' names have less words, maybe one or two, but organization can have long combination of words, which are difficult to detect."
   ]
  },
  {
   "cell_type": "markdown",
   "metadata": {
    "id": "mf6ziT36NteS"
   },
   "source": [
    "<a name=\"q2.4\"></a>\n",
    "[[^^^]](#outline) \n",
    "## **Q2.4: What is the effect of unknown word handling and smoothing?**"
   ]
  },
  {
   "cell_type": "markdown",
   "metadata": {
    "id": "q9PL6823OQPT"
   },
   "source": [
    "#### **A2.4:**\n",
    "\n",
    "The effect of unknown word handling is to avoid the situation that the observation string cannot be captured by our hmm model because it does not occur in our training data. Our unknown word handling implementation is choosing a certain percentage of frequency level n and then changing all the words with frequency lower than n into <unk>. If we encounter unknown word in our observation, we replace it with <unk>.\n",
    "    \n",
    "Training data cannot fully reflect the real world. The effect of smoothing is to make sure all NER sequences (in transition probability) and all NER-word pair (in emission probability) can occur with some probability, so that even though we do not see certain sequence or pair in the trainning data, they still have some possibility of occuring in the observation.\n",
    "    "
   ]
  },
  {
   "cell_type": "markdown",
   "metadata": {
    "id": "31e3sMHZrLWP"
   },
   "source": [
    "<a name=\"part3\"></a>\n",
    "# **Part 3: Maximum Entropy Markov Model** \n",
    "[[^^^]](#outline) \n",
    "---\n",
    "\n",
    "In this section, you will implement a Maximum Entropy Markov Model (**MEMM**) to perform the same NER task. Your model should consist of a MaxEnt classifier with Viterbi decoding. \n",
    "\n",
    "1. We have already performed tokenizations for documents. You can either use a MaxEnt classifier from an existing package or write the MaxEnt code yourself. **Important note:  MaxEnt classifiers are statistically equivalent to multi-class logistic regression, so you can use packages for multi-class LR instead of MaxEnt.**\n",
    "\n",
    "2. Use the classifier to learn a probability $P(t_i|features)$. You may replace either the lexical generation probability – $P(w_i|t_i)$ – or the transition probability – $P(t_i|t_{i−1})$ – in the HMM with it, or you may replace the entire *lexical generation probability * transition probability*  calculation – $P (w_i|t_i) ∗ P (t_i|t_{i−1)} – $ in the HMM with it. \n",
    "\n",
    "3. To train such a classifier, you need to pick some feature set. The content of the feature set is up to you, but try different ones, and evaluate your choices on the validation set. Pick the feature set that performs overall the best according to the F1 measure. If you draw inspiration for your features from external sources, please link them in the code.\n",
    "  * While there are many directions to take when looking for features, you may start by exploring parts of speech that appear in sentences. There are several libraries (ex. [nltk](https://www.nltk.org/book/ch05.html)) that process sentences and identify parts of speech. If you end up using a library to extract parts of speech tags or other features, please indicate this in your asnwer to Q3.1.\n",
    "\n",
    "4. Use your own implementation of the **Viterbi algorithm**, which you can modify from the one you developed for the HMM model. You will need the probabilities that you obtain from the MaxEnt classifier. \n",
    "\n",
    "5. Remember to use same training and validation split when evaluating the MEMM to have a **fair comparison** with your **HMM model**.\n",
    "\n",
    "\n",
    "Please also take a look into your misclassified cases, as we will be performing error analysis in Part 4. \n",
    "\n"
   ]
  },
  {
   "cell_type": "markdown",
   "metadata": {
    "id": "PJIosHVJZ-1o"
   },
   "source": [
    "\n",
    "\n",
    "---\n",
    "Here's a summary of the workflow for Part 3:\n",
    "\n",
    "![alt text](https://drive.google.com/uc?export=view&id=14VfjW3yDyXLojWM_u0LeJYdDOSLkElBn)\n",
    "\n",
    "\n"
   ]
  },
  {
   "cell_type": "markdown",
   "metadata": {
    "id": "8QGSijPUW_Bi"
   },
   "source": [
    "Note that we have not provided any skeleton code for how you should do feature engineering since this is meant to be an open ended task and we want you to experiment with the dataset. However, please remember to make sure that you code is concise, clean, and readable! Ultimately, we expect a function or class  mapping a sequence of tokens to a sequence of labels. At the end of this section you should have done the following:\n",
    "1. Extract Features\n",
    "2. Build & Train MaxEnt\n",
    "3. Call Viterbi when evaluating\n",
    "\n",
    "### References\n",
    "You may find [chapter 8](https://web.stanford.edu/~jurafsky/slp3/8.pdf) of Jurafsky and Martin book useful. In particular, you could consider section 8.5.2 for features in NER. "
   ]
  },
  {
   "cell_type": "markdown",
   "metadata": {
    "id": "Pd2PwG4wYkhQ"
   },
   "source": [
    "<a name=\"features\"></a>\n",
    "## **Feature Engineering**\n",
    "[[^^^]](#outline) \n",
    "---"
   ]
  },
  {
   "cell_type": "code",
   "execution_count": 44,
   "metadata": {
    "id": "xJR7yKDdNlQr"
   },
   "outputs": [],
   "source": [
    "# a function that look at the data in details to help us choose feature\n",
    "def look_data(tokens, ners, i):\n",
    "    output = []\n",
    "    for j in range(len(tokens[i])):\n",
    "        label = ners[i][j]\n",
    "        if label != 'O':\n",
    "            a = tokens[i][j] + '(' + label + ')'\n",
    "        if label == 'O':\n",
    "            a = tokens[i][j]\n",
    "        output.append(a)\n",
    "    print(' '.join(output))"
   ]
  },
  {
   "cell_type": "code",
   "execution_count": 235,
   "metadata": {
    "id": "r_9uve_DNs61"
   },
   "outputs": [
    {
     "name": "stdout",
     "output_type": "stream",
     "text": [
      "In July 2017 , she was appointed to be the next President of the Supreme(B-ORG) Court(I-ORG) , succeeding Lord Neuberger(B-PER) of Abbotsbury(B-LOC) .\n"
     ]
    }
   ],
   "source": [
    "for i in range(5090,5091):\n",
    "    look_data(train['text'], train['NER'], i)"
   ]
  },
  {
   "cell_type": "code",
   "execution_count": 46,
   "metadata": {
    "id": "6xBYPGLUHH7n"
   },
   "outputs": [],
   "source": [
    "\n",
    "def feature_extract(tokens,labels =None): \n",
    "    from nltk import pos_tag\n",
    "    output = []\n",
    "    keys =  ['text',\n",
    "             #'pre_text',\n",
    "             #'next_text',\n",
    "             'pos_is_NNP',\n",
    "             \"any_cap\", \n",
    "             \"all_cap\", \n",
    "             #\"contain_digit\", \n",
    "             #\"contain_dot\", \n",
    "             \"sentence_initial\", \n",
    "             #\"sentence_final\",\n",
    "             \"is_loc\",\n",
    "             'is_nationality',\n",
    "             \"pre_B-LOC\", \"pre_B-PER\", \"pre_B-MISC\", \"pre_B-ORG\", 'pre_O',\n",
    "             \"pre_I-LOC\", \"pre_I-PER\", \"pre_I-MISC\", \"pre_I-ORG\",\n",
    "             #\"cur_University\", 'cur_War', \"cur_League\",\n",
    "             \"pre_the\",'pre_by',\n",
    "             'pre_to', 'pre_from', 'pre_of', 'pre_at', 'pre_in','pre_on', 'pre_\"','pre_as',\n",
    "             \"next_University\", 'next_War', \"next_League\"]\n",
    "    \n",
    "    pre_labels = [\"B-LOC\", \"B-PER\", \"B-MISC\", \"B-ORG\", 'O'\n",
    "                  , \"I-LOC\", \"I-PER\", \"I-MISC\", \"I-ORG\"]\n",
    "    pre_words = ['the', 'by'\n",
    "                 , 'to', 'from', 'of', 'at', 'in','on', '\"', 'as']\n",
    "    next_words = ['University', 'War','League']\n",
    "    #current_words = ['University', 'War','League']\n",
    "    \n",
    "    for i in range(len(tokens)):\n",
    "        sentence = tokens[i]\n",
    "        from geotext import GeoText\n",
    "        \n",
    "\n",
    "        \n",
    "        pos_l = pos_tag(sentence)\n",
    "        for j in range(len(sentence)):\n",
    "            token = sentence[j]\n",
    "            \n",
    "            places = GeoText(token)\n",
    "\n",
    "            feature_vec = dict.fromkeys(keys, 0)\n",
    "            feature_vec['text'] = token\n",
    "            feature_vec['pos_is_NNP']  = int(pos_l[j][1] == 'NNP')\n",
    "            feature_vec['all_cap'] = int(token.isupper())\n",
    "            feature_vec['any_cap'] = int(any(map(str.isupper, token))) - feature_vec['all_cap']\n",
    "            feature_vec['sentence_initial'] = int(j == 0)\n",
    "            feature_vec['is_loc'] = int(((token in places.cities) or (token in places.countries)) and token != 'University')\n",
    "            feature_vec['is_nationality'] = int(token in places.nationalities)\n",
    "\n",
    "            # feature_vec['cur_University']  = int(token == 'University')\n",
    "            # feature_vec['cur_War']  = int(token == 'War')\n",
    "            # feature_vec['cur_League']  = int(token == 'League')\n",
    "                    \n",
    "            if (len(sentence) > 1) & (j != len(sentence)-1):\n",
    "                next_word = sentence[j+1]\n",
    "                #feature_vec['next_text'] = next_word\n",
    "                if next_word in next_words:\n",
    "                    feature = \"next_\" + next_word\n",
    "                    #print(feature)\n",
    "                    feature_vec[feature] = 1\n",
    "                    \n",
    "            if j > 0:\n",
    "                pre_NER = labels[i][j-1]\n",
    "                pre_word = sentence[j-1]\n",
    "\n",
    "            \n",
    "                #feature_vec['pre_text'] = pre_word\n",
    "                \n",
    "                if pre_NER in pre_labels:\n",
    "                    feature = \"pre_\" + pre_NER\n",
    "                    feature_vec[feature] = 1\n",
    "                \n",
    "                if pre_word.lower()  in pre_words:\n",
    "                    feature = \"pre_\" + pre_word.lower() \n",
    "                    feature_vec[feature] = 1\n",
    "\n",
    "            \n",
    "            label = labels[i][j]\n",
    "            entry = (feature_vec, label)\n",
    "            output.append(entry)\n",
    "            \n",
    "    \n",
    "    return output\n"
   ]
  },
  {
   "cell_type": "code",
   "execution_count": 48,
   "metadata": {
    "id": "o5sEYlGkJYSA"
   },
   "outputs": [],
   "source": [
    "# Your implementation here\n",
    "def test_feature_extract(token, pos, pre_label=None, pre_word = None, next_word=None):\n",
    "\n",
    "    from nltk import pos_tag\n",
    "    from geotext import GeoText\n",
    "    \n",
    "    output = []\n",
    "    keys =  ['text',\n",
    "             #'pre_text',\n",
    "             #'next_text',\n",
    "             'pos_is_NNP',\n",
    "             \"any_cap\", \n",
    "             \"all_cap\", \n",
    "             #\"contain_digit\", \n",
    "             #\"contain_dot\", \n",
    "             \"sentence_initial\", \n",
    "             #\"sentence_final\",\n",
    "             \"is_loc\",\n",
    "             'is_nationality',\n",
    "             \"pre_B-LOC\", \"pre_B-PER\", \"pre_B-MISC\", \"pre_B-ORG\", 'pre_O',\n",
    "             \"pre_I-LOC\", \"pre_I-PER\", \"pre_I-MISC\", \"pre_I-ORG\",\n",
    "             #\"cur_University\", 'cur_War', \"cur_League\",\n",
    "             \"pre_the\",'pre_by',\n",
    "             'pre_to', 'pre_from', 'pre_of', 'pre_at', 'pre_in','pre_on', 'pre_\"','pre_as',\n",
    "             \"next_University\", 'next_War', \"next_League\"]\n",
    "    \n",
    "    pre_labels = [\"B-LOC\", \"B-PER\", \"B-MISC\", \"B-ORG\", 'O'\n",
    "                  , \"I-LOC\", \"I-PER\", \"I-MISC\", \"I-ORG\"]\n",
    "    pre_words = ['the', 'by'\n",
    "                 , 'to', 'from', 'of', 'at', 'in','on', '\"', 'as']\n",
    "    next_words = ['University', 'War','League']\n",
    "    #current_words = ['University', 'War','League']\n",
    "    \n",
    "    \n",
    "    \n",
    "    places  = GeoText(token)\n",
    "    feature_vec = dict.fromkeys(keys, 0)\n",
    "    feature_vec['text'] = token\n",
    "    feature_vec['pos_is_NNP']  = int(pos == 'NNP')\n",
    "    feature_vec['all_cap'] = int(token.isupper())\n",
    "    feature_vec['any_cap'] = int(any(map(str.isupper, token))) - feature_vec['all_cap']\n",
    "    feature_vec['is_loc'] = int((token in places.cities) or (token in places.countries))\n",
    "    feature_vec['is_nationality'] = int(token in places.nationalities)\n",
    "\n",
    "    # feature_vec['cur_University']  = int(token == 'University')\n",
    "    # feature_vec['cur_War']  = int(token == 'War')\n",
    "    # feature_vec['cur_League']  = int(token == 'League')\n",
    "    \n",
    "    # If token is in the begining of the sentence \n",
    "    if pre_label==None:\n",
    "        feature_vec[\"sentence_initial\"] = 1\n",
    "\n",
    "    else:\n",
    "\n",
    "        #feature_vec['pre_text'] = pre_word\n",
    "\n",
    "        if pre_label in pre_labels:\n",
    "            feature = \"pre_\" + pre_label\n",
    "            feature_vec[feature] = 1\n",
    "        \n",
    "        if pre_word.lower() in pre_words:\n",
    "            feature = \"pre_\" + pre_word.lower() \n",
    "            feature_vec[feature] = 1\n",
    "\n",
    "    #feature_vec['next_text'] = next_word\n",
    "    if next_word in next_words:\n",
    "        feature = \"next_\" + next_word\n",
    "        feature_vec[feature] = 1\n",
    "        \n",
    "\n",
    "        \n",
    "    return feature_vec\n",
    "\n"
   ]
  },
  {
   "cell_type": "code",
   "execution_count": 51,
   "metadata": {
    "colab": {
     "base_uri": "https://localhost:8080/"
    },
    "id": "ACqYM9I4Jupd",
    "outputId": "ad4be242-1e69-451c-df56-7c53c75b39f1"
   },
   "outputs": [],
   "source": [
    "\n",
    "# TODO: please change the line below with your drive organization\n",
    "path = os.path.join(os.getcwd(),\"cs-4740-fa22-hw1-named-entity-recognition\")\n",
    "\n",
    "with open(os.path.join(path,'train.json'), 'r') as f:\n",
    "     train = json.loads(f.read())\n",
    "\n",
    "with open(os.path.join(path,'val.json'), 'r') as f:\n",
    "     val = json.loads(f.read())\n",
    "\n",
    "with open(os.path.join(path,'test.json'), 'r') as f:\n",
    "     test = json.loads(f.read())"
   ]
  },
  {
   "cell_type": "code",
   "execution_count": 54,
   "metadata": {
    "id": "DwH8FtddJw4K"
   },
   "outputs": [],
   "source": [
    "def build_ME(tokens, labels, max_iter):\n",
    "    \n",
    "    train_text_unk = unknown_word_handling(tokens,0.2)\n",
    "    \n",
    "    allTokens = list(set([item for subitem in train_text_unk for item in subitem]))\n",
    "    allLabels = list(set([item for subitem in labels for item in subitem]))\n",
    "    \n",
    "    train_feature = feature_extract(train_text_unk, labels)\n",
    "    from nltk.classify import maxent\n",
    "    encoding = maxent.TypedMaxentFeatureEncoding.train(train_feature)\n",
    "    classifier = maxent.MaxentClassifier.train(train_feature, max_iter=max_iter)\n",
    "    \n",
    "    return classifier, allTokens, allLabels\n",
    "    \n",
    "    \n"
   ]
  },
  {
   "cell_type": "markdown",
   "metadata": {
    "id": "jCkP4A3IYwit"
   },
   "source": [
    "<a name=\"memm_implementation\"></a>\n",
    "## **MEMM Implementation**\n",
    "[[^^^]](#outline) \n",
    "---"
   ]
  },
  {
   "cell_type": "code",
   "execution_count": 57,
   "metadata": {
    "colab": {
     "base_uri": "https://localhost:8080/"
    },
    "id": "-3CuClmDloKd",
    "outputId": "a3ba5e42-2040-487d-f7cf-bc8b873ada57"
   },
   "outputs": [
    {
     "name": "stdout",
     "output_type": "stream",
     "text": [
      "  ==> Training (100 iterations)\n",
      "\n",
      "      Iteration    Log Likelihood    Accuracy\n",
      "      ---------------------------------------\n",
      "             1          -2.19722        0.884\n",
      "             2          -0.22478        0.884\n",
      "             3          -0.21897        0.884\n",
      "             4          -0.21201        0.884\n",
      "             5          -0.20419        0.884\n",
      "             6          -0.19595        0.884\n",
      "             7          -0.18767        0.884\n",
      "             8          -0.17960        0.887\n",
      "             9          -0.17192        0.892\n",
      "            10          -0.16471        0.898\n",
      "            11          -0.15801        0.907\n",
      "            12          -0.15181        0.912\n",
      "            13          -0.14611        0.915\n",
      "            14          -0.14085        0.924\n",
      "            15          -0.13602        0.928\n",
      "            16          -0.13158        0.934\n",
      "            17          -0.12749        0.939\n",
      "            18          -0.12372        0.943\n",
      "            19          -0.12024        0.952\n",
      "            20          -0.11702        0.956\n",
      "            21          -0.11404        0.959\n",
      "            22          -0.11127        0.961\n",
      "            23          -0.10870        0.962\n",
      "            24          -0.10629        0.964\n",
      "            25          -0.10405        0.965\n",
      "            26          -0.10195        0.966\n",
      "            27          -0.09998        0.966\n",
      "            28          -0.09813        0.968\n",
      "            29          -0.09639        0.969\n",
      "            30          -0.09474        0.969\n",
      "            31          -0.09319        0.970\n",
      "            32          -0.09172        0.970\n",
      "            33          -0.09033        0.970\n",
      "            34          -0.08900        0.971\n",
      "            35          -0.08775        0.971\n",
      "            36          -0.08655        0.971\n",
      "            37          -0.08541        0.971\n",
      "            38          -0.08432        0.971\n",
      "            39          -0.08328        0.972\n",
      "            40          -0.08228        0.972\n",
      "            41          -0.08132        0.972\n",
      "            42          -0.08041        0.973\n",
      "            43          -0.07953        0.973\n",
      "            44          -0.07868        0.973\n",
      "            45          -0.07787        0.973\n",
      "            46          -0.07708        0.974\n",
      "            47          -0.07632        0.974\n",
      "            48          -0.07559        0.974\n",
      "            49          -0.07489        0.974\n",
      "            50          -0.07421        0.974\n",
      "            51          -0.07355        0.974\n",
      "            52          -0.07291        0.975\n",
      "            53          -0.07229        0.975\n",
      "            54          -0.07170        0.975\n",
      "            55          -0.07112        0.975\n",
      "            56          -0.07055        0.976\n",
      "            57          -0.07000        0.976\n",
      "            58          -0.06947        0.976\n",
      "            59          -0.06896        0.976\n",
      "            60          -0.06845        0.976\n",
      "            61          -0.06796        0.976\n",
      "            62          -0.06749        0.976\n",
      "            63          -0.06702        0.976\n",
      "            64          -0.06657        0.977\n",
      "            65          -0.06613        0.977\n",
      "            66          -0.06570        0.977\n",
      "            67          -0.06528        0.977\n",
      "            68          -0.06487        0.977\n",
      "            69          -0.06447        0.977\n",
      "            70          -0.06408        0.977\n",
      "            71          -0.06370        0.977\n",
      "            72          -0.06333        0.977\n",
      "            73          -0.06296        0.977\n",
      "            74          -0.06260        0.978\n",
      "            75          -0.06226        0.978\n",
      "            76          -0.06191        0.978\n",
      "            77          -0.06158        0.978\n",
      "            78          -0.06125        0.978\n",
      "            79          -0.06093        0.978\n",
      "            80          -0.06061        0.978\n",
      "            81          -0.06031        0.978\n",
      "            82          -0.06000        0.978\n",
      "            83          -0.05971        0.979\n",
      "            84          -0.05942        0.979\n",
      "            85          -0.05913        0.979\n",
      "            86          -0.05885        0.979\n",
      "            87          -0.05858        0.979\n",
      "            88          -0.05831        0.979\n",
      "            89          -0.05804        0.979\n",
      "            90          -0.05778        0.979\n",
      "            91          -0.05752        0.979\n",
      "            92          -0.05727        0.979\n",
      "            93          -0.05703        0.979\n",
      "            94          -0.05678        0.979\n",
      "            95          -0.05654        0.979\n",
      "            96          -0.05631        0.979\n",
      "            97          -0.05608        0.980\n",
      "            98          -0.05585        0.980\n",
      "            99          -0.05563        0.980\n",
      "         Final          -0.05541        0.980\n"
     ]
    }
   ],
   "source": [
    "ME = build_ME(train['text'], train['NER'], max_iter=100)\n",
    "\n"
   ]
  },
  {
   "cell_type": "code",
   "execution_count": 152,
   "metadata": {},
   "outputs": [],
   "source": [
    "import pickle\n",
    "f = open('ME.pickle', 'wb')\n",
    "pickle.dump(classifier, f)\n",
    "f.close()"
   ]
  },
  {
   "cell_type": "code",
   "execution_count": 184,
   "metadata": {
    "id": "PuqzLSusJx-e"
   },
   "outputs": [],
   "source": [
    "# Takes in the classifier build above and an observation (i.e. a list of tokens),\n",
    "# and returns a list with predicted named entity mappings for the tokens.\n",
    "# The returned list should be the same length as the input obeservation.\n",
    " \n",
    "        \n",
    "def MEMM(ME, observation):\n",
    "    classifier, allTokens, allNERs = ME\n",
    "    uni_tokens = list(set(allTokens))\n",
    "    L = len(observation) # length of the observation list\n",
    "    #print(\"L:\",L)\n",
    "    numNER = len(allNERs)\n",
    "    observation.append('<end>')\n",
    "    pos_l = pos_tag(observation)\n",
    "    #print(pos_l)\n",
    "    \n",
    "    for i in range(L):\n",
    "        if observation[i] not in allTokens:\n",
    "            observation[i] = \"<unk>\"\n",
    "\n",
    "    \n",
    "    L = len(observation)\n",
    "    \n",
    "    table = {NER: [[0.0,[]] for col in range(L)] for NER in allNERs}\n",
    "    #print(table)\n",
    "    \n",
    "    # First token: start probability\n",
    "    first_token = observation[0]\n",
    "    \n",
    "    if L>1:\n",
    "        next_token = observation[1]\n",
    "    else:\n",
    "        next_token = None\n",
    "    \n",
    "    \n",
    "    first_feature = test_feature_extract(first_token, pos=pos_l[0][1], next_word=next_token)\n",
    "    start_probs = classifier.prob_classify(first_feature)\n",
    "#     print(\"Feature analysis for \", first_token)\n",
    "#     classifier.explain(first_feature)\n",
    "    \n",
    "    for NER in allNERs:\n",
    "        #print(\"NER\",NER)\n",
    "        prob = start_probs.prob(NER)\n",
    "        table[NER][0][0] = np.log(prob)\n",
    "    #print(table)\n",
    "   \n",
    "\n",
    "    #Iteration for the rest of the observation\n",
    "    \n",
    "    for col in range(1,L): #for each token\n",
    "        #print('O:',observation[col])\n",
    "        for NER1 in allNERs: #for each NER1 row\n",
    "            choices = []\n",
    "            for NER2 in allNERs: # for each possible previous NER2\n",
    "                #print(NER1, NER2)\n",
    "                pre = table[NER2][col-1]\n",
    "                #print('pre:', pre)\n",
    "                token = observation[col]\n",
    "                #print(pos_l[col][1])\n",
    "                pos = pos_l[col][1]\n",
    "                pre_label = NER2\n",
    "                pre_word = observation[col-1]\n",
    "                if col != L-1:\n",
    "                    next_word = observation[col+1]\n",
    "                else: next_word = None\n",
    "                \n",
    "                feature = test_feature_extract(token, pos=pos, pre_label=pre_label, pre_word = pre_word, next_word=next_word)\n",
    "                classify_probs = classifier.prob_classify(feature)\n",
    "                prob_ner = classify_probs.prob(NER1)\n",
    "#                 print(\"Feature analysis for \", token, \"with pre_NER = \", NER2)\n",
    "#                 classifier.explain(feature)\n",
    "                \n",
    "                if prob_ner == 0:\n",
    "                    prob_ner == 0.000000000000000000001\n",
    "            \n",
    "                prob = pre[0] + np.log(prob_ner)\n",
    "                \n",
    "                #print(prob)\n",
    "                tags = pre[1]+[NER2]\n",
    "                #print('tags:',tags)\n",
    "                \n",
    "                choice = (prob,tags)\n",
    "                choices.append(choice)\n",
    "                #print('choices:', choices)\n",
    "            target = max(choices)\n",
    "            #print(\"target:\",target)\n",
    "            table[NER1][col] = target\n",
    "            #print(\"table22222:\",table)\n",
    "\n",
    "    #print(\"table\",table)\n",
    "    \n",
    "    max_prob = -999999999999999999\n",
    "    max_tags = None\n",
    "    \n",
    "    for NER in allNERs:\n",
    "        prob,tags = table[NER][-1]\n",
    "        if prob > max_prob:\n",
    "            max_prob = prob\n",
    "            max_tags = tags\n",
    "    \n",
    "    return max_tags\n",
    "    "
   ]
  },
  {
   "cell_type": "code",
   "execution_count": 185,
   "metadata": {
    "colab": {
     "base_uri": "https://localhost:8080/"
    },
    "id": "xH1RNtjwWLde",
    "outputId": "11512a7c-ca90-41eb-80cf-3d4ce96fd442"
   },
   "outputs": [],
   "source": [
    "classifier, allTokens, allLabels = ME\n",
    "#classifier.show_most_informative_features(n=2000, show=\"all\")\n",
    "#classifier.weights\n"
   ]
  },
  {
   "cell_type": "code",
   "execution_count": 186,
   "metadata": {},
   "outputs": [],
   "source": [
    "# import pickle\n",
    "# f = open('ME.pickle', 'rb')\n",
    "# classifier2 = pickle.load(f)\n",
    "# f.close()"
   ]
  },
  {
   "cell_type": "code",
   "execution_count": 227,
   "metadata": {
    "colab": {
     "base_uri": "https://localhost:8080/"
    },
    "id": "dKjbGZnEWRE1",
    "outputId": "34ee4386-63ce-4cf7-a345-7ff6eb473d09"
   },
   "outputs": [
    {
     "data": {
      "text/plain": [
       "['B-PER',\n",
       " 'I-PER',\n",
       " 'O',\n",
       " 'O',\n",
       " 'O',\n",
       " 'B-LOC',\n",
       " 'O',\n",
       " 'O',\n",
       " 'O',\n",
       " 'O',\n",
       " 'B-PER',\n",
       " 'I-PER',\n",
       " 'O']"
      ]
     },
     "execution_count": 227,
     "metadata": {},
     "output_type": "execute_result"
    }
   ],
   "source": [
    "# Here's a sample observations that you can use to test your code\n",
    "obs = ['Cornell',\n",
    " 'University',\n",
    " 'is',\n",
    " 'located',\n",
    " 'in',\n",
    " 'Ithaca',\n",
    " 'and',\n",
    " 'was',\n",
    " 'founded',\n",
    " \"by\", \"Ezra\", \"Cornell\", \".\" ]\n",
    "\n",
    "MEMM(ME, obs)\n",
    "\n"
   ]
  },
  {
   "cell_type": "markdown",
   "metadata": {
    "id": "vvoeAVMlX4gp"
   },
   "source": [
    "### **Validation**\n",
    "---\n",
    "In this section we want you to run your MaxEnt model on the validation dataset you extracted earlier. We want you to play around with different combinations of features in order to find which features work the best for your implementation. You will be asked to write about this process in detail in written question 3.3 so please spend time experimenting with features! Once again, please use the code we provided for computing Entity Level Avg F1 earlier when validating your model."
   ]
  },
  {
   "cell_type": "code",
   "execution_count": 60,
   "metadata": {
    "id": "TmUnuuxvHKXM"
   },
   "outputs": [],
   "source": [
    "# Run your model on validation set\n",
    "# You will need to \n",
    "# 1. Call your function above to get a prediction result on Validation Set\n",
    "# 2. Report Metrics\n",
    "# (See if you need to modify your feature set)"
   ]
  },
  {
   "cell_type": "code",
   "execution_count": null,
   "metadata": {},
   "outputs": [],
   "source": [
    "# Code for mean F1\n",
    "\n",
    "import numpy as np\n",
    "\n",
    "def mean_f1(y_pred_dict, y_true_dict):\n",
    "    \"\"\" \n",
    "    Calculates the entity-level mean F1 score given the actual/true and \n",
    "    predicted span labels.\n",
    "    :parameter y_pred_dict: A dictionary containing predicted labels as keys and the \n",
    "                            list of associated span labels as the corresponding\n",
    "                            values.\n",
    "    :type y_pred_dict: Dict<key [String] : value List[Tuple]>\n",
    "    :parameter y_true_dict: A dictionary containing true labels as keys and the \n",
    "                            list of associated span labels as the corresponding\n",
    "                            values.\n",
    "    :type y_true_dict: Dict<key [String] : value List[Tuple]>\n",
    "\n",
    "    Implementation modified from original by author @shonenkov at\n",
    "    https://www.kaggle.com/shonenkov/competition-metrics.\n",
    "    \"\"\"\n",
    "    F1_lst = []\n",
    "    valid_dict={}\n",
    "    for key in y_true_dict:\n",
    "        TP, FN, FP = 0, 0, 0\n",
    "        num_correct, num_true = 0, 0\n",
    "        preds = y_pred_dict[key]\n",
    "        trues = y_true_dict[key]\n",
    "        for true in trues:\n",
    "            num_true += 1\n",
    "            if true in preds:\n",
    "                num_correct += 1\n",
    "            else:\n",
    "                continue\n",
    "        num_pred = len(preds)\n",
    "        if num_true != 0:\n",
    "            if num_pred != 0 and num_correct != 0:\n",
    "                R = num_correct / num_true\n",
    "                P = num_correct / num_pred\n",
    "                F1 = 2*P*R / (P + R)\n",
    "            else:\n",
    "                F1 = 0      # either no predictions or no correct predictions\n",
    "        else:\n",
    "            continue\n",
    "        valid_dict[key] = [num_correct,num_true,num_pred]\n",
    "        F1_lst.append(F1)\n",
    "    #print(valid_dict)\n",
    "    return np.mean(F1_lst),valid_dict\n",
    "\n"
   ]
  },
  {
   "cell_type": "code",
   "execution_count": 61,
   "metadata": {
    "colab": {
     "base_uri": "https://localhost:8080/"
    },
    "id": "Gs-v0unylsRu",
    "outputId": "79eba9d6-db37-4db1-dbdf-71751770c8fd"
   },
   "outputs": [
    {
     "name": "stdout",
     "output_type": "stream",
     "text": [
      "Entity document Mean F1 score is :  0.5060831088845795\n"
     ]
    }
   ],
   "source": [
    "# Evaluate/validate your model here\n",
    "\n",
    "F1 = []\n",
    "summ2 = {\"LOC\":[0,0,0], \"MISC\":[0,0,0], \"ORG\":[0,0,0], \"PER\":[0,0,0]}\n",
    "for i in range(len(val['text'])):\n",
    "    obs = val['text'][i]\n",
    "    true_token_labels = val['NER'][i]\n",
    "    token_indices = val['index'][i]\n",
    "    pred_token_labels = MEMM(ME, obs)\n",
    "    y_pred_dict = format_output_labels(pred_token_labels, token_indices)\n",
    "    #print(\"y_pred_dict is : \" + str(y_pred_dict))\n",
    "    y_true_dict = format_output_labels(true_token_labels, token_indices)\n",
    "    #print(\"y_true_dict is : \" + str(y_true_dict))\n",
    "    #print(mean_f1(y_pred_dict, y_true_dict))\n",
    "    f1 = mean_f1(y_pred_dict, y_true_dict)[0]\n",
    "    dic = mean_f1(y_pred_dict,y_true_dict)[1]\n",
    "    #print(dic)\n",
    "    for key in summ2:\n",
    "        if key in dic.keys():\n",
    "            for i in range(0,3):\n",
    "                summ2[key][i] = dic[key][i] + summ2[key][i]\n",
    "    #print(summ)\n",
    "    F1.append(f1)\n",
    "\n",
    "meanF1 = np.mean(F1)\n",
    "print(\"Entity document Mean F1 score is : \", meanF1)\n",
    "\n",
    "\n"
   ]
  },
  {
   "cell_type": "code",
   "execution_count": 101,
   "metadata": {},
   "outputs": [
    {
     "name": "stdout",
     "output_type": "stream",
     "text": [
      "{'LOC': {'Recall': 0.5422222222222223, 'Precision': 0.8591549295774648, 'F1': 0.6648501362397821}, 'MISC': {'Recall': 0.3515151515151515, 'Precision': 0.7945205479452054, 'F1': 0.48739495798319327}, 'ORG': {'Recall': 0.35789473684210527, 'Precision': 0.8292682926829268, 'F1': 0.4999999999999999}, 'PER': {'Recall': 0.5572916666666666, 'Precision': 0.9224137931034483, 'F1': 0.6948051948051949}}\n"
     ]
    }
   ],
   "source": [
    "\n",
    "result2 = {\"LOC\":{\"Recall\":[],\"Precision\":[],\"F1\":[]}, \"MISC\":{\"Recall\":[],\"Precision\":[],\"F1\":[]}, \"ORG\":{\"Recall\":[],\"Precision\":[],\"F1\":[]}, \"PER\":{\"Recall\":[],\"Precision\":[],\"F1\":[]}}\n",
    "for key in summ2.keys():\n",
    "    result2[key]['Recall'] = summ2[key][0]/summ2[key][1]\n",
    "    result2[key]['Precision'] = summ2[key][0]/summ2[key][2]\n",
    "    result2[key]['F1'] = (2*result2[key]['Recall']*result2[key]['Precision'])/(result2[key]['Recall']+result2[key]['Precision'])\n",
    "#print(result2)\n"
   ]
  },
  {
   "cell_type": "code",
   "execution_count": 169,
   "metadata": {},
   "outputs": [
    {
     "data": {
      "text/html": [
       "<div>\n",
       "<style scoped>\n",
       "    .dataframe tbody tr th:only-of-type {\n",
       "        vertical-align: middle;\n",
       "    }\n",
       "\n",
       "    .dataframe tbody tr th {\n",
       "        vertical-align: top;\n",
       "    }\n",
       "\n",
       "    .dataframe thead th {\n",
       "        text-align: right;\n",
       "    }\n",
       "</style>\n",
       "<table border=\"1\" class=\"dataframe\">\n",
       "  <thead>\n",
       "    <tr style=\"text-align: right;\">\n",
       "      <th></th>\n",
       "      <th>LOC</th>\n",
       "      <th>MISC</th>\n",
       "      <th>ORG</th>\n",
       "      <th>PER</th>\n",
       "    </tr>\n",
       "  </thead>\n",
       "  <tbody>\n",
       "    <tr>\n",
       "      <th>Recall</th>\n",
       "      <td>0.542222</td>\n",
       "      <td>0.351515</td>\n",
       "      <td>0.357895</td>\n",
       "      <td>0.557292</td>\n",
       "    </tr>\n",
       "    <tr>\n",
       "      <th>Precision</th>\n",
       "      <td>0.859155</td>\n",
       "      <td>0.794521</td>\n",
       "      <td>0.829268</td>\n",
       "      <td>0.922414</td>\n",
       "    </tr>\n",
       "    <tr>\n",
       "      <th>F1</th>\n",
       "      <td>0.664850</td>\n",
       "      <td>0.487395</td>\n",
       "      <td>0.500000</td>\n",
       "      <td>0.694805</td>\n",
       "    </tr>\n",
       "  </tbody>\n",
       "</table>\n",
       "</div>"
      ],
      "text/plain": [
       "                LOC      MISC       ORG       PER\n",
       "Recall     0.542222  0.351515  0.357895  0.557292\n",
       "Precision  0.859155  0.794521  0.829268  0.922414\n",
       "F1         0.664850  0.487395  0.500000  0.694805"
      ]
     },
     "execution_count": 169,
     "metadata": {},
     "output_type": "execute_result"
    }
   ],
   "source": [
    "pd.DataFrame.from_dict(result2)"
   ]
  },
  {
   "cell_type": "markdown",
   "metadata": {
    "id": "fGkhL1imxpmH"
   },
   "source": [
    "<a name=\"q3.1\"></a>\n",
    "[[^^^]](#outline) \n",
    "\n",
    "## **Q3.1: Implementation Details**\n",
    "Explain how you implemented the MEMM and whether/how you modified Viterbi (e.g. which algorithms/data structures you used, what features are included). Make clear which parts were implemented from scratch vs. obtained via an existing package.\n"
   ]
  },
  {
   "cell_type": "markdown",
   "metadata": {
    "id": "etkqBEJxOZbI"
   },
   "source": [
    "#### **A3.1:**\n",
    "\n",
    "1. We first decided what features should we choose for MEMM. By looking at data closely, we decided to use the following feature list:\n",
    "             ['text'，\n",
    "             'pos_is_NNP',\n",
    "             \"any_cap\", \n",
    "             \"all_cap\",\n",
    "             \"sentence_initial\", \n",
    "             \"is_loc\",\n",
    "             'is_nationality',\n",
    "             \"pre_B-LOC\", \"pre_B-PER\", \"pre_B-MISC\", \"pre_B-ORG\", 'pre_O',\n",
    "             \"pre_I-LOC\", \"pre_I-PER\", \"pre_I-MISC\", \"pre_I-ORG\",\n",
    "             \"pre_the\",'pre_by',\n",
    "             'pre_to', 'pre_from', 'pre_of', 'pre_at', 'pre_in','pre_on', 'pre_\"','pre_as',\n",
    "             \"next_University\", 'next_War', \"next_League\"]\n",
    "             \n",
    "2. Then we started to implement two feature extractions, one for training data and one for observation. In the feature extraction process, we use nltk pos_tag and geotext GeoText for the features ['pos_is_NNP'], [\"is_loc\"], and ['is_nationality']. \n",
    "\n",
    "    2.1 feature extractions for training data: The output data structure is a list of tuples with the first element be the feature dictionary and the second element be the NER label. We looped through every word in every sentence in the data. And then first check for features about the word itself, like captalization, pos_is_NNP, is_loc, etc. Then check if the word is sentence initial, if not, we check the previous word and the NER of previous word. Then if the sentence length > 1 and the current word is not the last element in the sentence, we check the next word of it to see if it is in the next_word list which includes 'University', 'War', 'League', 'Mountains'.\n",
    "\n",
    "     2.2 feature extractions for testing data: The output data structure is a feature dictionary. Unlike the training feature extraction, it takes more input: the current single word, its part-of-speech, the NER of previous word, the previous word, and the next word. The MEMM viterbi will produce those inputs to be used in this function. Then the function maps all the input into the feature dictionary.\n",
    "\n",
    "\n",
    "3. Build the ME model: we first do the unknown-word-handling. And then use 2.1 to extract training feature data. Then we obtained an exsiting package -- nltk.classify.maxent -- to train our maxent classifier. Then we return the classifier, all tokens, and all NERs.\n",
    "\n",
    "\n",
    "4. MEMM implementation: We modified viterbi from last HMM section. Since we do not have start probability anymore, we initialize the table by calling the test_feature_extract on the first element and then use the classifier from ME model to generate the probability distribution for each NER label. Then we have three loops, 1. iterate the observation from the second word to the end; 2. iterate all NER for each row; 3. iterate all NER again for each possible previous NER. Then we check all inputs for test_feature_extract and then extract feature for every word. Then the ME classifier was used to calculated the probability distribution for each NER label. We use the probability distribution to update the table. So instead of log(emission) + log(transition) in HMM, we only have one single log(ME_probability) in MEMM. The rest of the MEMM viterbi is similiar to HMM viterbi.\n",
    "\n",
    "\n"
   ]
  },
  {
   "cell_type": "markdown",
   "metadata": {
    "id": "m_eDwiILvHGL"
   },
   "source": [
    "<a name=\"q3.2\"></a>\n",
    "[[^^^]](#outline) \n",
    "\n",
    "## **Q3.2: Results Analysis**\n",
    "Explain here how you evaluated the MEMM model. Summarize the performance of your system and any variations that you experimented with the validation datasets. Put the results into clearly labeled tables or diagrams and include your observations and analysis.\n"
   ]
  },
  {
   "cell_type": "markdown",
   "metadata": {
    "id": "udTvSjp1ObVy"
   },
   "source": [
    "#### **A3.2:**\n",
    "\n",
    "We evaluated the MEMM models using the F1 score calculated by provided functions. The entity document Mean F1 score on the validation data is 0.5061. We experimented with different feature sets and iteration number. We did not record all the experiment results, but below is an approximate process of experimenting the feature sets and the iteration number. \n",
    "\n",
    "| Features | iteration | Accuracy | time(min) |\n",
    "| --- | --- | --- | ---|\n",
    "| all_cap, any_cup, sent_init | 10 | 0.0004  | ~10\n",
    "| + current token, POS | 20 | 0.23 | ~60 |\n",
    "| + pre_NER(binary)| 20 | 0.30 | ~70 |\n",
    "| + is_Loc, is_nationality, pre_word(binary), next_word(binary)| 20 | 0.35 | ~70 |\n",
    "| + is_Loc, is_nationality, pre_word(binary), next_word(binary)| 300 | 0.40 | ~900 |\n",
    "| + is_Loc, is_nationality, pre_word(binary), next_word(binary)| 100 | 0.50 | ~300 |\n",
    "\n",
    "We first just had simple features about the word itself with binary values, like capitalization. After 10 times of iteration, the accuracy was very low. Therefore, we keep adding more informative features. An interesting thing we observed was that sometimes adding more features lowered the accuracy. We thought this was because the added features were not informative enough and even disrupted the learning process of the model. Another thing we observed was that with increasing iteration number to a very big number actually worsened the model performance. We thought this was because overfitting. The model was too closely aligned to the training data and performed poorly in test data.\n"
   ]
  },
  {
   "cell_type": "markdown",
   "metadata": {
    "id": "ammZn20RZn8h"
   },
   "source": [
    "<a name=\"q3.3\"></a>\n",
    "[[^^^]](#outline) \n",
    "\n",
    "## **Q3.3: Feature Engineering**\n",
    "What features are considered most important by your MaxEnt Classifier? Why do you think these features make sense? Describe your experiments with feature sets. An analysis on feature selection for the MEMM is required – e.g. what features **help most**, why? An **error analysis** is required – e.g. what sorts of errors occurred, why?"
   ]
  },
  {
   "cell_type": "markdown",
   "metadata": {
    "id": "foadgkcOOcvT"
   },
   "source": [
    "#### **A3.3:**\n",
    "\n",
    "We have three kinds of features: (i) feature about the current token, like captalization, part-of-speech, if-it-is-location, etc; (ii) the label of previous token: pre_B-Loc, pre_O, etc; (iii) if the previous and next words are worth-noting: pre_the, pre_by, etc. The list of word is chosen by looking at the training data. For example we found that the named entities are more likely to occur after certain preposition/determiners, and different preposition may help us differentiate entity, such as that \"by\" is more likely to be followed by a person than a location. In general, the token itself plays the most important role in our MaxEnt Classifier according to the classifier.show_most_informative_features function. \n",
    "\n",
    "However, different tokens and different context have different ranks on features. One example is provided below: This is the feature explanation for classifying \"Yale\" in sentence \"Yale University is a university. \"\n",
    "     \n",
    "         Feature                                            B-ORG       O   B-PER   I-ORG\n",
    "      --------------------------------------------------------------------------------\n",
    "      next_University==1 (1)                             3.193\n",
    "      pre_O==0 (1)                                      -2.826\n",
    "      text=='Yale' (1)                                   2.684\n",
    "      any_cap==1 (1)                                     0.908\n",
    "      sentence_initial==1 (1)                            0.855\n",
    "      pos_is_NNP==1 (1)                                  0.801\n",
    "      pre_the==0 (1)                                    -0.599\n",
    "    \n",
    "\n",
    "  \n",
    "And the most important feature to choose the right lable B-ORG is next_University==1.\n",
    "\n",
    "However, the word \"Cornell\" in sentence \"Cornell University in located in Ithaca\" was assigned the incorrect label \"B-PER\". \n",
    "\n",
    "        Feature                                          B-PER      O   B-ORG    I-ORG\n",
    "      --------------------------------------------------------------------------------\n",
    "      text=='Cornell' (1)                                3.407\n",
    "      pre_O==0 (1)                                      -1.834\n",
    "      sentence_initial==1 (1)                            0.884\n",
    "      any_cap==1 (1)                                     0.829\n",
    "      pos_is_NNP==1 (1)                                  0.790\n",
    "\n",
    "\n",
    "\n",
    "In this case, the most importatn feature is different -- it is the text=='Cornell' feature. Since Cornell can be a person name or a university name, it is ambiguous. It seems like the pre_O==0 feature prevented the classifier to choose \"B_ORG\" to be the lable.\n"
   ]
  },
  {
   "cell_type": "code",
   "execution_count": 107,
   "metadata": {},
   "outputs": [
    {
     "data": {
      "text/html": [
       "<div>\n",
       "<style scoped>\n",
       "    .dataframe tbody tr th:only-of-type {\n",
       "        vertical-align: middle;\n",
       "    }\n",
       "\n",
       "    .dataframe tbody tr th {\n",
       "        vertical-align: top;\n",
       "    }\n",
       "\n",
       "    .dataframe thead th {\n",
       "        text-align: right;\n",
       "    }\n",
       "</style>\n",
       "<table border=\"1\" class=\"dataframe\">\n",
       "  <thead>\n",
       "    <tr style=\"text-align: right;\">\n",
       "      <th></th>\n",
       "      <th>LOC</th>\n",
       "      <th>MISC</th>\n",
       "      <th>ORG</th>\n",
       "      <th>PER</th>\n",
       "    </tr>\n",
       "  </thead>\n",
       "  <tbody>\n",
       "    <tr>\n",
       "      <th>Recall</th>\n",
       "      <td>0.542222</td>\n",
       "      <td>0.351515</td>\n",
       "      <td>0.357895</td>\n",
       "      <td>0.557292</td>\n",
       "    </tr>\n",
       "    <tr>\n",
       "      <th>Precision</th>\n",
       "      <td>0.859155</td>\n",
       "      <td>0.794521</td>\n",
       "      <td>0.829268</td>\n",
       "      <td>0.922414</td>\n",
       "    </tr>\n",
       "    <tr>\n",
       "      <th>F1</th>\n",
       "      <td>0.664850</td>\n",
       "      <td>0.487395</td>\n",
       "      <td>0.500000</td>\n",
       "      <td>0.694805</td>\n",
       "    </tr>\n",
       "  </tbody>\n",
       "</table>\n",
       "</div>"
      ],
      "text/plain": [
       "                LOC      MISC       ORG       PER\n",
       "Recall     0.542222  0.351515  0.357895  0.557292\n",
       "Precision  0.859155  0.794521  0.829268  0.922414\n",
       "F1         0.664850  0.487395  0.500000  0.694805"
      ]
     },
     "execution_count": 107,
     "metadata": {},
     "output_type": "execute_result"
    }
   ],
   "source": [
    "import pandas as pd \n",
    "\n",
    "pd.DataFrame.from_dict(result2)"
   ]
  },
  {
   "cell_type": "markdown",
   "metadata": {},
   "source": [
    "The overall F1 score of MEMM is 0.5060. According the previous table, we can see different types of tags have different recall, precision and F1 scores. \n",
    "\n",
    "The recall is #Correct NEs / # Predicted NEs, the precision is #Correct NEs / #NEs in answer key, and the F-Measure(F1) is 2PR / (P+R). In our model, this table shows that the PER tags have the best performance, with the highest F1 score of 0.695, the recall of 0.557, the precision of 0.922. According to the definition of recall, there are about 55.7% of the true PER tags are correctly recognized. The LOC tag recognition have relatively good performance. Then is the performance of recognizing ORG tags. The MISC tags have the worst performance, with the lowest F1 score of 0.487, the recall of 0.351 and the precision of 0.794. The result depicted that this system works better when recognizing person's names and locations, but it fails when recognizing organization names and miscellaneous entities. This is very similar to the HMM result. In the MEMM model, these relatively large errors happens in MISC and ORG tags probably also because these entities have more complicated rules than PER and LOC tags. Also, it is probably because we didn't choose appropriate features targeting at these types of tags. \n"
   ]
  },
  {
   "cell_type": "code",
   "execution_count": 193,
   "metadata": {},
   "outputs": [],
   "source": [
    "# classifier.explain(test_feature_extract('Yale', 'NNP', next_word = 'University'))"
   ]
  },
  {
   "cell_type": "code",
   "execution_count": 194,
   "metadata": {},
   "outputs": [],
   "source": [
    "# classifier.explain(test_feature_extract('Cornell', 'NNP', next_word = 'University'))"
   ]
  },
  {
   "cell_type": "markdown",
   "metadata": {
    "id": "h4XaDMlcaDBA"
   },
   "source": [
    "<a name=\"q3.4\"></a>\n",
    "[[^^^]](#outline) \n",
    "\n",
    "## **Q3.4: Room for Improvement**\n",
    "When did the system work well, when did it fail and any ideas as to why? How might you improve the system? \n"
   ]
  },
  {
   "cell_type": "markdown",
   "metadata": {
    "id": "Q_esMp_pOeGD"
   },
   "source": [
    "#### **A3.4:**\n",
    "\n",
    "Adding more features not always works. Sometimes it make the system fails and get worse performace score.<br>\n",
    "We think the manual feature selection is the most important part to improve the system. Even if we inspect the previous tag and previous special words, we still don't include enough meaningful context information. The model cannot learn much from the existing context. However, recording every word as a feature is costly. To save time and energy, we think that isn't a good way to improve. In the future, maybe there are some ways to include the context information more and cost less. Also, we only inspect some part of the training data, and we decided to add features like \"pre_at\",\"pre_of\",\"pre_University\" and so on. There should be some other rules that we didn't notice. By inspecting the document and adding more meaningful word lists like prefixs, suffixs, or alias, the system may be improved. <br> \n",
    "\n",
    "In addition, the overfitting problem is very obvious, since in each iteration of the MEMM training, the accuracy always increases and get to nearly 100% accurate. That will lead to the overfitting of training data and cause large variation on validation and test data. In our training features, there should be some useless ones that leads to the overfitting. We need to remove these features to improve the system. <br>\n",
    "\n",
    "**Moreover, when generating feature vectors, we realized that we made a mistake. We set each feature originally to 0, but some of the words may not have some of the features. For example, if a word is in the middle of the sentence, the 'sentence_initial' should not have a value. There is significant difference between a \"null\" value and a \"0\" value. Also, the feature vector of each word doesn't have to have the same dimensions. Fixing this may lead to a large improvement of the model, both in the running-time and the performance.**"
   ]
  },
  {
   "cell_type": "markdown",
   "metadata": {
    "id": "lQwPwqU3vMiS"
   },
   "source": [
    "<a name=\"part4\"></a>\n",
    "# **Part 4: Comparing HMMs and MEMMs**\n",
    "[[^^^]](#outline) \n",
    "\n",
    "---\n",
    "\n",
    "In this section you will be asked to analyze and compare the models you have developed!\n",
    "\n",
    "\n"
   ]
  },
  {
   "cell_type": "markdown",
   "metadata": {
    "id": "ndVxVFzFagZ5"
   },
   "source": [
    "<a name=\"q4.1\"></a>\n",
    "[[^^^]](#outline) \n",
    "\n",
    "## **Q4.1: Result Comparison**\n",
    "Compare here your results (validation scores) for your HMM and the MEMM. Which of them performs better? Why?"
   ]
  },
  {
   "cell_type": "markdown",
   "metadata": {
    "id": "FuXjldBAOgXf"
   },
   "source": [
    "#### **A4.1:**\n",
    "\n",
    "HMM: f1 = 0.5058 </br>\n",
    "MEMM: f1 = 0.5060 (after 100 iteration)\n",
    "\n",
    "HMM and MEMM have similar performance. This is actually not expected by us when we implemented two algorithm. Since MEMM contains more information (features) then HMM does, we expected MEMM should learn more and behave better than HMM which only contains transition and emission probability. Even though we experimented with many different feature sets for MEMM, we still cannot get a very good performance. One thing needs to be noted is that the best f1 score for MEMM was after 100 iteration which is extremely time-consuming while HMM did not take very long time to be trained. \n",
    "\n",
    "One reason is that our feature selection may not be good enough. We found that adding more features sometime decreases the accuracy of model performance. It is possible that we added some features that are not important to learn the labels or even further confuse the models. \n",
    "\n",
    "Another reason is the overfitting issue. In the training phase, we got accuracy around 0.980, but the F1 score on validation data is not as good. Since we were choosing our own features based on the training dataset which describe the training data very well but not necessay can capture the test data, it is very easy to get overfitting issue."
   ]
  },
  {
   "cell_type": "code",
   "execution_count": 171,
   "metadata": {},
   "outputs": [
    {
     "data": {
      "text/html": [
       "<div>\n",
       "<style scoped>\n",
       "    .dataframe tbody tr th:only-of-type {\n",
       "        vertical-align: middle;\n",
       "    }\n",
       "\n",
       "    .dataframe tbody tr th {\n",
       "        vertical-align: top;\n",
       "    }\n",
       "\n",
       "    .dataframe thead th {\n",
       "        text-align: right;\n",
       "    }\n",
       "</style>\n",
       "<table border=\"1\" class=\"dataframe\">\n",
       "  <thead>\n",
       "    <tr style=\"text-align: right;\">\n",
       "      <th></th>\n",
       "      <th>LOC</th>\n",
       "      <th>MISC</th>\n",
       "      <th>ORG</th>\n",
       "      <th>PER</th>\n",
       "    </tr>\n",
       "  </thead>\n",
       "  <tbody>\n",
       "    <tr>\n",
       "      <th>Recall</th>\n",
       "      <td>0.524444</td>\n",
       "      <td>0.363636</td>\n",
       "      <td>0.368421</td>\n",
       "      <td>0.562500</td>\n",
       "    </tr>\n",
       "    <tr>\n",
       "      <th>Precision</th>\n",
       "      <td>0.836879</td>\n",
       "      <td>0.681818</td>\n",
       "      <td>0.636364</td>\n",
       "      <td>0.923077</td>\n",
       "    </tr>\n",
       "    <tr>\n",
       "      <th>F1</th>\n",
       "      <td>0.644809</td>\n",
       "      <td>0.474308</td>\n",
       "      <td>0.466667</td>\n",
       "      <td>0.699029</td>\n",
       "    </tr>\n",
       "  </tbody>\n",
       "</table>\n",
       "</div>"
      ],
      "text/plain": [
       "                LOC      MISC       ORG       PER\n",
       "Recall     0.524444  0.363636  0.368421  0.562500\n",
       "Precision  0.836879  0.681818  0.636364  0.923077\n",
       "F1         0.644809  0.474308  0.466667  0.699029"
      ]
     },
     "execution_count": 171,
     "metadata": {},
     "output_type": "execute_result"
    }
   ],
   "source": [
    "# HMM\n",
    "pd.DataFrame.from_dict(result)"
   ]
  },
  {
   "cell_type": "code",
   "execution_count": 170,
   "metadata": {},
   "outputs": [
    {
     "data": {
      "text/html": [
       "<div>\n",
       "<style scoped>\n",
       "    .dataframe tbody tr th:only-of-type {\n",
       "        vertical-align: middle;\n",
       "    }\n",
       "\n",
       "    .dataframe tbody tr th {\n",
       "        vertical-align: top;\n",
       "    }\n",
       "\n",
       "    .dataframe thead th {\n",
       "        text-align: right;\n",
       "    }\n",
       "</style>\n",
       "<table border=\"1\" class=\"dataframe\">\n",
       "  <thead>\n",
       "    <tr style=\"text-align: right;\">\n",
       "      <th></th>\n",
       "      <th>LOC</th>\n",
       "      <th>MISC</th>\n",
       "      <th>ORG</th>\n",
       "      <th>PER</th>\n",
       "    </tr>\n",
       "  </thead>\n",
       "  <tbody>\n",
       "    <tr>\n",
       "      <th>Recall</th>\n",
       "      <td>0.542222</td>\n",
       "      <td>0.351515</td>\n",
       "      <td>0.357895</td>\n",
       "      <td>0.557292</td>\n",
       "    </tr>\n",
       "    <tr>\n",
       "      <th>Precision</th>\n",
       "      <td>0.859155</td>\n",
       "      <td>0.794521</td>\n",
       "      <td>0.829268</td>\n",
       "      <td>0.922414</td>\n",
       "    </tr>\n",
       "    <tr>\n",
       "      <th>F1</th>\n",
       "      <td>0.664850</td>\n",
       "      <td>0.487395</td>\n",
       "      <td>0.500000</td>\n",
       "      <td>0.694805</td>\n",
       "    </tr>\n",
       "  </tbody>\n",
       "</table>\n",
       "</div>"
      ],
      "text/plain": [
       "                LOC      MISC       ORG       PER\n",
       "Recall     0.542222  0.351515  0.357895  0.557292\n",
       "Precision  0.859155  0.794521  0.829268  0.922414\n",
       "F1         0.664850  0.487395  0.500000  0.694805"
      ]
     },
     "execution_count": 170,
     "metadata": {},
     "output_type": "execute_result"
    }
   ],
   "source": [
    "# MEMM\n",
    "pd.DataFrame.from_dict(result2)"
   ]
  },
  {
   "cell_type": "markdown",
   "metadata": {
    "id": "cjGcdm5aafl3"
   },
   "source": [
    "<a name=\"q4.2\"></a>\n",
    "[[^^^]](#outline) \n",
    "\n",
    "## **Q4.2: Error Analysis 1**\n",
    "Do some error analysis. What are error patterns you observed that the HMM makes but the MEMM does not? Try to justify why/why not? **Please give examples from the dataset.**"
   ]
  },
  {
   "cell_type": "code",
   "execution_count": 222,
   "metadata": {},
   "outputs": [
    {
     "name": "stdout",
     "output_type": "stream",
     "text": [
      "94\n",
      "['<unk>', '<unk>', 'gas', 'for', 'creamy', '<unk>', 'is', 'usually', '75', '%', 'nitrogen', 'and', '25', '%', '<unk>', 'This', '<unk>', 'gas', 'which', 'only', 'works', 'well', 'with', 'creamy', '<unk>', 'is', 'often', 'referred', 'to', 'as', '<unk>', '<unk>', ',', '<unk>', '<unk>', ',', 'or', '<unk>', '(', 'an', 'Air', '<unk>', 'brand', 'name', ')', '.', '<unk>', '<unk>', '<unk>', '<unk>', '<unk>', '<unk>', '<unk>', '<unk>', '<unk>', '<unk>', '<unk>', '<end>']\n",
      "['O', 'O', 'O', 'O', 'O', 'O', 'O', 'O', 'O', 'O', 'O', 'O', 'O', 'O', 'O', 'O', 'O', 'O', 'O', 'O', 'O', 'O', 'O', 'O', 'O', 'O', 'O', 'O', 'O', 'O', 'I-MISC', 'I-MISC', 'O', 'I-MISC', 'I-MISC', 'O', 'O', 'I-MISC', 'O', 'O', 'B-ORG', 'I-ORG', 'O', 'O', 'O', 'O']\n",
      "HMM ['B-PER', 'I-PER', 'O', 'O', 'O', 'O', 'O', 'O', 'O', 'O', 'O', 'O', 'O', 'O', 'O', 'O', 'O', 'O', 'O', 'O', 'O', 'O', 'O', 'O', 'O', 'O', 'O', 'O', 'O', 'O', 'O', 'O', 'O', 'O', 'O', 'O', 'O', 'O', 'O', 'O', 'O', 'O', 'O', 'O', 'O', 'O', 'B-MISC', 'I-MISC', 'I-MISC', 'I-MISC', 'I-MISC', 'I-MISC', 'I-MISC', 'I-MISC', 'I-MISC', 'I-MISC']\n",
      "MEMM ['O', 'O', 'O', 'O', 'O', 'O', 'O', 'O', 'O', 'O', 'O', 'O', 'O', 'O', 'O', 'O', 'O', 'O', 'O', 'O', 'O', 'O', 'O', 'O', 'O', 'O', 'O', 'O', 'O', 'O', 'B-PER', 'I-PER', 'O', 'O', 'O', 'O', 'O', 'O', 'O', 'O', 'B-PER', 'I-PER', 'O', 'O', 'O', 'O', 'O', 'O', 'O', 'B-PER', 'I-PER', 'I-PER', 'I-PER', 'I-PER', 'I-PER', 'I-PER', 'I-PER']\n",
      "106\n",
      "['Music', 'written', 'using', 'the', 'modes', '<unk>', 'conventional', '<unk>', 'harmonic', '<unk>', ',', 'since', 'for', 'example', 'Messiaen', \"'s\", '<unk>', '2', '(', 'identical', 'to', 'the', '\"', '<unk>', 'scale', '\"', 'used', 'also', 'by', 'other', 'composers', ')', 'permits', '<unk>', 'the', 'dominant', 'seventh', '<unk>', 'whose', '<unk>', 'the', 'mode', 'does', 'not', 'contain', '.', '<unk>', '<unk>', '<unk>', '<unk>', '<unk>', '<unk>', '<unk>', '<unk>', '<unk>', '<unk>', '<unk>', '<end>']\n",
      "['O', 'O', 'O', 'O', 'O', 'O', 'O', 'O', 'O', 'O', 'O', 'O', 'O', 'O', 'B-PER', 'O', 'I-MISC', 'I-MISC', 'O', 'O', 'O', 'O', 'O', 'O', 'O', 'O', 'O', 'O', 'O', 'O', 'O', 'O', 'O', 'O', 'O', 'O', 'O', 'O', 'O', 'O', 'O', 'O', 'O', 'O', 'O', 'O']\n",
      "HMM ['B-MISC', 'O', 'O', 'O', 'O', 'O', 'O', 'O', 'O', 'O', 'O', 'O', 'O', 'O', 'B-MISC', 'I-MISC', 'I-MISC', 'I-MISC', 'O', 'O', 'O', 'O', 'O', 'O', 'O', 'O', 'O', 'O', 'O', 'O', 'O', 'O', 'O', 'O', 'O', 'O', 'O', 'O', 'O', 'O', 'O', 'O', 'O', 'O', 'O', 'O', 'B-MISC', 'I-MISC', 'I-MISC', 'I-MISC', 'I-MISC', 'I-MISC', 'I-MISC', 'I-MISC', 'I-MISC', 'I-MISC']\n",
      "MEMM ['O', 'O', 'O', 'O', 'O', 'O', 'O', 'O', 'O', 'O', 'O', 'O', 'O', 'O', 'O', 'O', 'O', 'O', 'O', 'O', 'O', 'O', 'O', 'O', 'O', 'O', 'O', 'O', 'O', 'O', 'O', 'O', 'O', 'O', 'O', 'O', 'O', 'O', 'O', 'O', 'O', 'O', 'O', 'O', 'O', 'O', 'O', 'O', 'B-PER', 'I-PER', 'I-PER', 'I-PER', 'I-PER', 'I-PER', 'I-PER', 'I-PER', 'I-PER']\n",
      "210\n",
      "['<unk>', '<unk>', 'returns', 'from', 'the', 'woods', ',', 'he', 'sees', 'what', 'has', 'happened', 'and', 'acts', 'quickly', 'by', 'putting', 'their', '<unk>', 'inside', 'his', '<unk>', '.', '<unk>', '<unk>', '<unk>', '<unk>', '<unk>', '<unk>', '<unk>', '<unk>', '<unk>', '<unk>', '<unk>', '<end>']\n",
      "['O', 'B-PER', 'O', 'O', 'O', 'O', 'O', 'O', 'O', 'O', 'O', 'O', 'O', 'O', 'O', 'O', 'O', 'O', 'O', 'O', 'O', 'O', 'O']\n",
      "HMM ['B-PER', 'I-PER', 'O', 'O', 'O', 'O', 'O', 'O', 'O', 'O', 'O', 'O', 'O', 'O', 'O', 'O', 'O', 'O', 'O', 'O', 'O', 'O', 'O', 'B-MISC', 'I-MISC', 'I-MISC', 'I-MISC', 'I-MISC', 'I-MISC', 'I-MISC', 'I-MISC', 'I-MISC', 'I-MISC']\n",
      "MEMM ['O', 'O', 'O', 'O', 'O', 'O', 'O', 'O', 'O', 'O', 'O', 'O', 'O', 'O', 'O', 'O', 'O', 'O', 'O', 'O', 'O', 'O', 'O', 'O', 'O', 'B-PER', 'I-PER', 'I-PER', 'I-PER', 'I-PER', 'I-PER', 'I-PER', 'I-PER', 'I-PER']\n",
      "302\n",
      "['The', 'Jerusalem', 'campus', 'is', 'the', 'only', '<unk>', 'in', 'Israel', 'for', 'training', '<unk>', 'Jewish', 'clergy', '.', '<unk>', '<unk>', '<unk>', '<unk>', '<unk>', '<unk>', '<unk>', '<unk>', '<unk>', '<unk>', '<unk>', '<end>']\n",
      "['O', 'B-LOC', 'O', 'O', 'O', 'O', 'O', 'O', 'B-LOC', 'O', 'O', 'B-MISC', 'B-MISC', 'O', 'O']\n",
      "HMM ['B-ORG', 'I-ORG', 'O', 'O', 'O', 'O', 'O', 'O', 'B-LOC', 'O', 'O', 'O', 'B-MISC', 'O', 'O', 'B-MISC', 'I-MISC', 'I-MISC', 'I-MISC', 'I-MISC', 'I-MISC', 'I-MISC', 'I-MISC', 'I-MISC', 'I-MISC']\n",
      "MEMM ['O', 'B-LOC', 'O', 'O', 'O', 'O', 'O', 'O', 'B-LOC', 'O', 'O', 'O', 'B-MISC', 'O', 'O', 'O', 'O', 'B-PER', 'I-PER', 'I-PER', 'I-PER', 'I-PER', 'I-PER', 'I-PER', 'I-PER', 'I-PER']\n"
     ]
    }
   ],
   "source": [
    "# Check the error that HMM makes but the MEMM does not\n",
    "for i in range(len(val['text'])):\n",
    "    o1 = val['text'][i]\n",
    "    a = val['NER'][i]\n",
    "    h = viterbi(hmm, o1)\n",
    "    M = MEMM(ME, o1)\n",
    "    \n",
    "    yes = False\n",
    "    \n",
    "    for j in range(len(a)):\n",
    "        if (M[j] == a[j]) and (h[j]!=a[j]):\n",
    "            yes = True\n",
    "            break\n",
    "        break\n",
    "    \n",
    "    if yes:\n",
    "        print(i)\n",
    "        print(val['text'][i])\n",
    "        print(a)\n",
    "        print(\"HMM\", h)\n",
    "        print(\"MEMM\", M)\n",
    "\n"
   ]
  },
  {
   "cell_type": "markdown",
   "metadata": {
    "id": "NzFPgH9MOiQw"
   },
   "source": [
    "#### **A4.2:**\n",
    "\n",
    "By analyzing the errors, we found that HMM tends to make mistake at sentence-initial position -- it assigns an NER label to sentence-initial token which should be an \"O\", while MEMM does not make this kind of mistake. Some exmaples are: \n",
    "\n",
    "    1. ['Music', 'written', 'using', 'the', 'modes', ...]\n",
    "    Actual Labels: ['O', 'O', 'O', 'O', 'O', ...]\n",
    "    HMM Prediction: ['B-MISC', 'O', 'O', 'O', 'O',...]\n",
    "    MEMM Prediction: ['O', 'O', 'O', 'O', 'O',...]\n",
    "    \n",
    "    2. ['The', 'Jerusalem', 'campus', 'is', 'the', 'only', ...]\n",
    "    Actual Labels: ['O', 'B-LOC', 'O', 'O', 'O', 'O', ...]\n",
    "    HMM Prediction: ['B-ORG', 'I-ORG', 'O', 'O', 'O', 'O', ...]\n",
    "    MEMM Prediction: ['O', 'B-LOC', 'O', 'O', 'O', 'O', 'O', ...]\n",
    "\n",
    "    \n",
    "We think it is because in MEMM we have two features \"any_cap\" and \"sentence_initial\". The MEMM learned that all sentence_initial token will have capitalization, thus the capitaliztion cannot provide many information on named entity at sentence-initial position and the MEMM model will use other feature to determine if it is an valid entity. However, HMM only has capitalization information stored as its lexical information. It only knows that if the word is captalized, it is more likely to be named entity. HMM does not learn about the position. \n",
    "\n",
    "Also, according to the error analysis in A4.1, the MEMM has better performace (F1 score 0.50) in recognizing ORG entities than HMM (F1 score 0.46). It is probably we include some other information that HMM cannot include such as part of speech and capitalization. These are features that related to the ORG entities and can help recognizing them correctly. "
   ]
  },
  {
   "cell_type": "markdown",
   "metadata": {
    "id": "rZYfZAgga9UB"
   },
   "source": [
    "<a name=\"q4.3\"></a>\n",
    "[[^^^]](#outline) \n",
    "\n",
    "## **Q4.3: Error Analysis 2**\n",
    "What are error patterns you observed that MEMM makes but the HMM does not? Try to justify what you observe? **Please give examples from the dataset.** "
   ]
  },
  {
   "cell_type": "code",
   "execution_count": 225,
   "metadata": {},
   "outputs": [
    {
     "name": "stdout",
     "output_type": "stream",
     "text": [
      "146\n",
      "['<unk>', 'Anderson', ',', '<unk>', 'Hart', ',', 'and', 'Ava', '<unk>', 'used', 'the', 'show', 'as', 'a', '<unk>', 'to', 'launch', 'their', 'own', 'successful', 'careers', 'as', 'country', 'music', 'solo', 'artists', '.', '<unk>', '<unk>', '<unk>', '<unk>', '<unk>', '<unk>', '<unk>', '<unk>', '<unk>', '<unk>', '<unk>', '<unk>', '<unk>', '<unk>', '<unk>', '<unk>', '<unk>', '<end>']\n",
      "['B-PER', 'I-PER', 'O', 'B-PER', 'I-PER', 'O', 'O', 'B-PER', 'I-PER', 'O', 'O', 'O', 'O', 'O', 'O', 'O', 'O', 'O', 'O', 'O', 'O', 'O', 'O', 'O', 'O', 'O', 'O']\n",
      "HMM ['B-PER', 'I-PER', 'O', 'B-PER', 'I-PER', 'O', 'O', 'B-PER', 'I-PER', 'O', 'O', 'O', 'O', 'O', 'O', 'O', 'O', 'O', 'O', 'O', 'O', 'O', 'O', 'O', 'O', 'O', 'O', 'B-MISC', 'I-MISC', 'I-MISC', 'I-MISC', 'I-MISC', 'I-MISC', 'I-MISC', 'I-MISC', 'I-MISC', 'I-MISC', 'I-MISC', 'I-MISC', 'I-MISC', 'I-MISC', 'I-MISC', 'I-MISC']\n",
      "MEMM ['O', 'B-LOC', 'O', 'B-PER', 'I-PER', 'O', 'O', 'B-PER', 'I-PER', 'O', 'O', 'O', 'O', 'O', 'O', 'O', 'O', 'O', 'O', 'O', 'O', 'O', 'O', 'O', 'O', 'O', 'O', 'O', 'O', 'B-MISC', 'I-MISC', 'I-MISC', 'I-MISC', 'I-MISC', 'I-MISC', 'I-MISC', 'I-MISC', 'I-MISC', 'I-MISC', 'I-MISC', 'I-MISC', 'I-MISC', 'I-MISC', 'I-MISC']\n",
      "209\n",
      "['Athens', 'fell', 'in', 'March', '<unk>', ',', 'and', 'the', 'city', 'was', 'sacked', '.', '<unk>', '<unk>', '<unk>', '<unk>', '<unk>', '<unk>', '<unk>', '<unk>', '<unk>', '<unk>', '<unk>', '<unk>', '<unk>', '<unk>', '<unk>', '<unk>', '<unk>', '<end>']\n",
      "['B-LOC', 'O', 'O', 'O', 'O', 'O', 'O', 'O', 'O', 'O', 'O', 'O']\n",
      "HMM ['B-LOC', 'O', 'O', 'O', 'O', 'O', 'O', 'O', 'O', 'O', 'O', 'O', 'B-MISC', 'I-MISC', 'I-MISC', 'I-MISC', 'I-MISC', 'I-MISC', 'I-MISC', 'I-MISC', 'I-MISC', 'I-MISC', 'I-MISC', 'I-MISC', 'I-MISC', 'I-MISC', 'I-MISC', 'I-MISC']\n",
      "MEMM ['O', 'O', 'O', 'O', 'O', 'O', 'O', 'O', 'O', 'O', 'O', 'O', 'O', 'O', 'O', 'B-MISC', 'I-MISC', 'I-MISC', 'I-MISC', 'I-MISC', 'I-MISC', 'I-MISC', 'I-MISC', 'I-MISC', 'I-MISC', 'I-MISC', 'I-MISC', 'I-MISC', 'I-MISC']\n",
      "328\n",
      "['Chicago', 'remained', 'his', 'home', 'until', '1932', ',', 'when', 'he', 'settled', 'in', 'New', 'York', 'City', '.', '<unk>', '<unk>', '<unk>', '<unk>', '<unk>', '<unk>', '<unk>', '<unk>', '<unk>', '<unk>', '<unk>', '<unk>', '<unk>', '<unk>', '<unk>', '<unk>', '<unk>', '<end>']\n",
      "['B-LOC', 'O', 'O', 'O', 'O', 'O', 'O', 'O', 'O', 'O', 'O', 'B-LOC', 'I-LOC', 'I-LOC', 'O']\n",
      "HMM ['B-LOC', 'O', 'O', 'O', 'O', 'O', 'O', 'O', 'O', 'O', 'O', 'B-LOC', 'I-LOC', 'I-LOC', 'O', 'B-MISC', 'I-MISC', 'I-MISC', 'I-MISC', 'I-MISC', 'I-MISC', 'I-MISC', 'I-MISC', 'I-MISC', 'I-MISC', 'I-MISC', 'I-MISC', 'I-MISC', 'I-MISC', 'I-MISC', 'I-MISC']\n",
      "MEMM ['B-ORG', 'O', 'O', 'O', 'O', 'O', 'O', 'O', 'O', 'O', 'O', 'B-LOC', 'I-LOC', 'I-LOC', 'O', 'O', 'O', 'B-MISC', 'I-MISC', 'I-MISC', 'I-MISC', 'I-MISC', 'I-MISC', 'I-MISC', 'I-MISC', 'I-MISC', 'I-MISC', 'I-MISC', 'I-MISC', 'I-MISC', 'I-MISC', 'I-MISC']\n",
      "397\n",
      "['<unk>', '<unk>', '(', '2007', ')', 'calls', 'the', '<unk>', 'question', '\"', '<unk>', '\"', ',', 'and', '<unk>', 'that', 'the', 'first', 'voyage', 'was', 'probably', 'another', 'version', 'of', 'the', 'second', ';', 'the', 'third', 'is', '<unk>', ',', 'and', 'the', 'fourth', 'is', 'probably', 'true', '.', '<unk>', '<unk>', '<unk>', '<unk>', '<unk>', '<unk>', '<unk>', '<unk>', '<unk>', '<unk>', '<unk>', '<unk>', '<unk>', '<unk>', '<unk>', '<end>']\n",
      "['B-PER', 'I-PER', 'O', 'O', 'O', 'O', 'O', 'O', 'O', 'O', 'O', 'O', 'O', 'O', 'O', 'O', 'O', 'O', 'O', 'O', 'O', 'O', 'O', 'O', 'O', 'O', 'O', 'O', 'O', 'O', 'O', 'O', 'O', 'O', 'O', 'O', 'O', 'O', 'O']\n",
      "HMM ['B-PER', 'I-PER', 'O', 'O', 'O', 'O', 'O', 'O', 'O', 'O', 'O', 'O', 'O', 'O', 'O', 'O', 'O', 'O', 'O', 'O', 'O', 'O', 'O', 'O', 'O', 'O', 'O', 'O', 'O', 'O', 'O', 'O', 'O', 'O', 'O', 'O', 'O', 'O', 'O', 'B-MISC', 'I-MISC', 'I-MISC', 'I-MISC', 'I-MISC', 'I-MISC', 'I-MISC', 'I-MISC', 'I-MISC', 'I-MISC', 'I-MISC', 'I-MISC', 'I-MISC', 'I-MISC']\n",
      "MEMM ['O', 'O', 'O', 'O', 'O', 'O', 'O', 'O', 'O', 'O', 'O', 'O', 'O', 'O', 'O', 'O', 'O', 'O', 'O', 'O', 'O', 'O', 'O', 'O', 'O', 'O', 'O', 'O', 'O', 'O', 'O', 'O', 'O', 'O', 'O', 'O', 'O', 'O', 'O', 'O', 'O', 'O', 'B-MISC', 'I-MISC', 'I-MISC', 'I-MISC', 'I-MISC', 'I-MISC', 'I-MISC', 'I-MISC', 'I-MISC', 'I-MISC', 'I-MISC', 'I-MISC']\n"
     ]
    }
   ],
   "source": [
    "# Check the error that HMM makes but the MEMM does not\n",
    "for i in range(len(val['text'])):\n",
    "    o1 = val['text'][i]\n",
    "    a = val['NER'][i]\n",
    "    h = viterbi(hmm, o1)\n",
    "    M = MEMM(ME, o1)\n",
    "    \n",
    "    yes = False\n",
    "    \n",
    "    for j in range(len(a)):\n",
    "        if (h[j] == a[j]) and (M[j]!=a[j]) and (a[j] != 'O'):\n",
    "            yes = True\n",
    "            break\n",
    "        break\n",
    "    \n",
    "    if yes:\n",
    "        print(i)\n",
    "        print(val['text'][i])\n",
    "        print(a)\n",
    "        print(\"HMM\", h)\n",
    "        print(\"MEMM\", M)\n",
    "\n"
   ]
  },
  {
   "cell_type": "markdown",
   "metadata": {
    "id": "Shm8ZaaoOjbg"
   },
   "source": [
    "#### **A4.3:**\n",
    "\n",
    "The most obvious pattern we observed is that MEMM cannot precisely tell the difference between PER tags and ORG tags. For example, in the sentence \n",
    "\n",
    "    \"Cornell University is located in Ithaca and was founded by Ezra Cornell.\",\n",
    "    HMM: ['B-ORG','I-ORG','O','O','O','B-LOC','O','O','O','O','B-PER','I-PER','O']\n",
    "    MEMM: ['B-PER','I-PER','O','O','O','B-LOC','O','O','O','O','B-PER','I-PER','O']\n",
    "    \n",
    "MEMM model sometimes mixed up Cornell University and Ezra Cornell. However, HMM can tell the difference between these two \"Cornell\". The reason is probably because we don't include much context information since we manually pick the features. In HMM, the model learn the context by itself. Especially \"Cornell\" as the last name seldom occur in the sentence initial position and usually follow the first name \"Ezra\". Person and Organization names sometimes appear in different positions in the sentences or may connected to some special words and influenced by its part of speech.\n",
    "\n",
    "It seems like the MEMM is able to detect the span of the entity, but sometimes get the label wrong. Another example is\n",
    "    \n",
    "    ['Chicago', 'remained', 'his', 'home', 'until', '1932',..]\n",
    "    HMM: ['B-LOC', 'O', 'O', 'O', 'O', 'O',...]\n",
    "    MEMM: ['B-ORG', 'O', 'O', 'O', 'O', 'O', ...]\n",
    "    \n",
    "Looking at the feature weight in the MEMM classifier, our analysis is that other features interact with \"is_loc\" which was suppose to be the most important feature. \n",
    "\n",
    "     Feature                                            B-ORG   B-LOC   B-PER   I-ORG\n",
    "      --------------------------------------------------------------------------------\n",
    "      pre_O==0 (1)                                      -2.826\n",
    "      text=='Chicago' (1)                                2.819\n",
    "      any_cap==1 (1)                                     0.908\n",
    "      sentence_initial==1 (1)                            0.855\n",
    "      pos_is_NNP==1 (1)                                  0.801\n",
    "      is_loc==1 (1)                                      0.725\n",
    "\n",
    "The most important feature became \"pre_O==0\". For future improvement, we should reconsider those features. And it is possible for \"Chicago\" to be used in other organization name, we need to find a way to tell the difference between \"Chicago\" as part of ORG name and \"Chicago\" as the city."
   ]
  },
  {
   "cell_type": "code",
   "execution_count": 234,
   "metadata": {},
   "outputs": [],
   "source": [
    "# classifier.explain(test_feature_extract('Chicago', 'NNP', next_word = 'remained'))"
   ]
  },
  {
   "cell_type": "markdown",
   "metadata": {
    "id": "TpugxBD7RBy1"
   },
   "source": [
    "<a name=\"part5\"></a>\n",
    "# **Part 5: Kaggle Submission**\n",
    "[[^^^]](#outline) \n",
    "\n",
    "---\n",
    "\n",
    "Using the best-performing system from among all of your HMM and MEMM models, generate predictions for the test set, and submit them to [Kaggle competition](https://www.kaggle.com/t/200697e4726f448986930dd4e823e957). Below, we provide a function that submits given predicted tokens and associated token indices in the correct format. As a scoring metric on Kaggle, we use **Entity Level Mean F1**.\n",
    "\n",
    "Your submission to Kaggle should be a CSV file consisting of five lines and two columns. The first line is a fixed header, and each of the remaining four lines corresponds to one of the four types of named entities. The first column is the label identifier *Id* (one of PER, LOC, ORG or MISC), and the second column *Predicted* is a list of entities (separated by single space) that you predict to be of that type. Each entity is specified by its starting and ending index (concatenated by a hypen) as given in the test corpus. \n",
    "\n",
    "You can use the function **create_submission** that takes the list of predicted labels and the list of associated token indices as inputs and creates the the output CSV file at a specified path.\n",
    "\n",
    "NOTE: Ensure that there are **no** rows with *Id* = \"O\" in your Kaggle Submission."
   ]
  },
  {
   "cell_type": "code",
   "execution_count": 63,
   "metadata": {
    "id": "893l9j77ETFM"
   },
   "outputs": [],
   "source": [
    "import csv\n",
    "\n",
    "def create_submission(output_filepath, token_labels, token_inds):\n",
    "    \"\"\"\n",
    "    :parameter output_filepath: The full path (including file name) of the output file, \n",
    "                                with extension .csv\n",
    "    :type output_filepath: [String]\n",
    "    :parameter token_labels: A list of token labels (eg. PER, LOC, ORG or MISC).\n",
    "    :type token_labels: List[String]\n",
    "    :parameter token_indices: A list of token indices (taken from the dataset) \n",
    "                              corresponding to the labels in [token_labels].\n",
    "    :type token_indices: List[int]\n",
    "    \"\"\"\n",
    "    label_dict = format_output_labels(token_labels, token_inds)\n",
    "    with open(output_filepath, mode='w') as csv_file:\n",
    "        fieldnames = ['Id', 'Predicted']\n",
    "        writer = csv.DictWriter(csv_file, fieldnames=fieldnames)\n",
    "        writer.writeheader()\n",
    "        for key in label_dict:\n",
    "            p_string = \" \".join([str(start)+\"-\"+str(end) for start,end in label_dict[key]])\n",
    "            writer.writerow({'Id': key, 'Predicted': p_string})"
   ]
  },
  {
   "cell_type": "code",
   "execution_count": 64,
   "metadata": {},
   "outputs": [
    {
     "name": "stdout",
     "output_type": "stream",
     "text": [
      "True\n"
     ]
    }
   ],
   "source": [
    "import json\n",
    "\n",
    "# TODO: please change the line below with your drive organization\n",
    "path = os.path.join(os.getcwd(),\"cs-4740-fa22-hw1-named-entity-recognition\")\n",
    "\n",
    "with open(os.path.join(path,'train.json'), 'r') as f:\n",
    "     train = json.loads(f.read())\n",
    "\n",
    "with open(os.path.join(path,'val.json'), 'r') as f:\n",
    "     val = json.loads(f.read())\n",
    "\n",
    "with open(os.path.join(path,'test.json'), 'r') as f:\n",
    "     test = json.loads(f.read())\n",
    "        \n",
    "token_inds = [item for subindex in test['index'] for item in subindex]\n",
    "\n",
    "predictions = []\n",
    "for i in range(len(test['text'])):\n",
    "    prediction = MEMM(ME,test['text'][i])\n",
    "    predictions.append(prediction)\n",
    "predictions = [item for sub in predictions for item in sub]\n",
    "\n",
    "print(len(predictions) == len(token_inds))\n",
    "\n",
    "\n",
    "path = os.path.join(os.getcwd(), \"NLP4740_HW1_MEMM_try4.csv\")\n",
    "create_submission(path, predictions, token_inds)"
   ]
  },
  {
   "cell_type": "markdown",
   "metadata": {
    "id": "U1lNil41VqMn"
   },
   "source": [
    "## **Baselines**\n",
    "\n",
    "On Kaggle, we provide two baselines for you to evaluate your models agaist: **`HMM Baseline`** and **`MEMM Baseline`**. You may use them to internally check your models. In addition, you would be getting points if for the final submission your best-performing model does better than the **`MEMM baseline`**.\n",
    "\n"
   ]
  },
  {
   "cell_type": "markdown",
   "metadata": {
    "id": "BEZP_FGivVRI"
   },
   "source": [
    "---\n",
    "<a name=\"q5\"></a>\n",
    "## **Q5: Competition Score**\n",
    "[[^^^]](#outline) \n",
    "\n",
    "\n",
    "Include your **team name** and your **best score** from Kaggle. "
   ]
  },
  {
   "cell_type": "markdown",
   "metadata": {
    "id": "bYirLL5x1mE7"
   },
   "source": [
    "#### **A5:**\n",
    "\n",
    "**team name:** B-PER </br>\n",
    "**best score for HMM:** 0.53395 </br>\n",
    "**best score for MEMM:** 0.50956 </br>"
   ]
  }
 ],
 "metadata": {
  "colab": {
   "collapsed_sections": [],
   "provenance": []
  },
  "kernelspec": {
   "display_name": "Python 3 (ipykernel)",
   "language": "python",
   "name": "python3"
  },
  "language_info": {
   "codemirror_mode": {
    "name": "ipython",
    "version": 3
   },
   "file_extension": ".py",
   "mimetype": "text/x-python",
   "name": "python",
   "nbconvert_exporter": "python",
   "pygments_lexer": "ipython3",
   "version": "3.8.8"
  }
 },
 "nbformat": 4,
 "nbformat_minor": 1
}
